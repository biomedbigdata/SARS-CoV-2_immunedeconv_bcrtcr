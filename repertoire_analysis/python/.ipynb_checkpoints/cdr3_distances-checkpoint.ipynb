{
 "cells": [
  {
   "cell_type": "code",
   "execution_count": 3,
   "id": "624f3a02",
   "metadata": {
    "scrolled": true
   },
   "outputs": [
    {
     "ename": "ModuleNotFoundError",
     "evalue": "No module named 'colorcet'",
     "output_type": "error",
     "traceback": [
      "\u001b[0;31m---------------------------------------------------------------------------\u001b[0m",
      "\u001b[0;31mModuleNotFoundError\u001b[0m                       Traceback (most recent call last)",
      "Cell \u001b[0;32mIn [3], line 4\u001b[0m\n\u001b[1;32m      2\u001b[0m \u001b[38;5;28;01mimport\u001b[39;00m \u001b[38;5;21;01mpandas\u001b[39;00m \u001b[38;5;28;01mas\u001b[39;00m \u001b[38;5;21;01mpd\u001b[39;00m\n\u001b[1;32m      3\u001b[0m \u001b[38;5;28;01mimport\u001b[39;00m \u001b[38;5;21;01mseaborn\u001b[39;00m \u001b[38;5;28;01mas\u001b[39;00m \u001b[38;5;21;01msns\u001b[39;00m\n\u001b[0;32m----> 4\u001b[0m \u001b[38;5;28;01mimport\u001b[39;00m \u001b[38;5;21;01mcolorcet\u001b[39;00m \u001b[38;5;28;01mas\u001b[39;00m \u001b[38;5;21;01mcc\u001b[39;00m\n",
      "\u001b[0;31mModuleNotFoundError\u001b[0m: No module named 'colorcet'"
     ]
    }
   ],
   "source": [
    "from scirpy.ir_dist import *\n",
    "import pandas as pd\n",
    "import seaborn as sns\n",
    "import colorcet as cc"
   ]
  },
  {
   "cell_type": "code",
   "execution_count": 72,
   "id": "fa855d82",
   "metadata": {},
   "outputs": [
    {
     "ename": "ModuleNotFoundError",
     "evalue": "No module named 'colorcet'",
     "output_type": "error",
     "traceback": [
      "\u001b[0;31m---------------------------------------------------------------------------\u001b[0m",
      "\u001b[0;31mModuleNotFoundError\u001b[0m                       Traceback (most recent call last)",
      "Cell \u001b[0;32mIn [72], line 1\u001b[0m\n\u001b[0;32m----> 1\u001b[0m \u001b[38;5;28;01mimport\u001b[39;00m \u001b[38;5;21;01mcolorcet\u001b[39;00m\n",
      "\u001b[0;31mModuleNotFoundError\u001b[0m: No module named 'colorcet'"
     ]
    }
   ],
   "source": [
    "import colorcet"
   ]
  },
  {
   "cell_type": "code",
   "execution_count": 2,
   "id": "b35fb2bf",
   "metadata": {},
   "outputs": [
    {
     "name": "stdout",
     "output_type": "stream",
     "text": [
      "# packages in environment at /nfs/home/students/l.willruth/.conda/envs/bcrtcr_python:\r\n",
      "#\r\n",
      "# Name                    Version                   Build  Channel\r\n",
      "_libgcc_mutex             0.1                 conda_forge    conda-forge\r\n",
      "_openmp_mutex             4.5                       2_gnu    conda-forge\r\n",
      "adjusttext                0.7.3.1                    py_1    conda-forge\r\n",
      "airr                      1.4.1              pyh5e36f6f_0    bioconda\r\n",
      "anndata                   0.8.0              pyhd8ed1ab_1    conda-forge\r\n",
      "arpack                    3.7.0                hdefa2d7_2    conda-forge\r\n",
      "brotli                    1.0.9                h166bdaf_8    conda-forge\r\n",
      "brotli-bin                1.0.9                h166bdaf_8    conda-forge\r\n",
      "brotlipy                  0.7.0           py39h27cfd23_1003  \r\n",
      "bzip2                     1.0.8                h7f98852_4    conda-forge\r\n",
      "c-ares                    1.18.1               h7f98852_0    conda-forge\r\n",
      "ca-certificates           2022.10.11           h06a4308_0  \r\n",
      "cached-property           1.5.2                hd8ed1ab_1    conda-forge\r\n",
      "cached_property           1.5.2              pyha770c72_1    conda-forge\r\n",
      "certifi                   2022.9.24        py39h06a4308_0  \r\n",
      "cffi                      1.15.1           py39h74dc2b5_0  \r\n",
      "charset-normalizer        2.0.4              pyhd3eb1b0_0  \r\n",
      "colorama                  0.4.6              pyhd8ed1ab_0    conda-forge\r\n",
      "colorcet                  3.0.1            py39h06a4308_0  \r\n",
      "contourpy                 1.0.6            py39hf939315_0    conda-forge\r\n",
      "cryptography              38.0.1           py39h9ce1e76_0  \r\n",
      "cycler                    0.11.0             pyhd8ed1ab_0    conda-forge\r\n",
      "fonttools                 4.38.0           py39hb9d737c_1    conda-forge\r\n",
      "freetype                  2.12.1               hca18f0e_0    conda-forge\r\n",
      "glpk                      5.0                  h445213a_0    conda-forge\r\n",
      "gmp                       6.2.1                h58526e2_0    conda-forge\r\n",
      "h5py                      3.7.0           nompi_py39h817c9c5_102    conda-forge\r\n",
      "hdf5                      1.12.2          nompi_h4df4325_100    conda-forge\r\n",
      "icu                       70.1                 h27087fc_0    conda-forge\r\n",
      "idna                      3.4              py39h06a4308_0  \r\n",
      "importlib-metadata        5.0.0              pyha770c72_1    conda-forge\r\n",
      "importlib_metadata        5.0.0                hd8ed1ab_1    conda-forge\r\n",
      "joblib                    1.2.0              pyhd8ed1ab_0    conda-forge\r\n",
      "jpeg                      9e                   h166bdaf_2    conda-forge\r\n",
      "keyutils                  1.6.1                h166bdaf_0    conda-forge\r\n",
      "kiwisolver                1.4.4            py39hf939315_1    conda-forge\r\n",
      "krb5                      1.19.3               h08a2579_0    conda-forge\r\n",
      "lcms2                     2.14                 h6ed2654_0    conda-forge\r\n",
      "ld_impl_linux-64          2.39                 hc81fddc_0    conda-forge\r\n",
      "lerc                      4.0.0                h27087fc_0    conda-forge\r\n",
      "levenshtein               0.20.8           py39h5a03fae_2    conda-forge\r\n",
      "libblas                   3.9.0           16_linux64_openblas    conda-forge\r\n",
      "libbrotlicommon           1.0.9                h166bdaf_8    conda-forge\r\n",
      "libbrotlidec              1.0.9                h166bdaf_8    conda-forge\r\n",
      "libbrotlienc              1.0.9                h166bdaf_8    conda-forge\r\n",
      "libcblas                  3.9.0           16_linux64_openblas    conda-forge\r\n",
      "libcurl                   7.86.0               h2283fc2_1    conda-forge\r\n",
      "libdeflate                1.14                 h166bdaf_0    conda-forge\r\n",
      "libedit                   3.1.20191231         he28a2e2_2    conda-forge\r\n",
      "libev                     4.33                 h516909a_1    conda-forge\r\n",
      "libffi                    3.4.2                h7f98852_5    conda-forge\r\n",
      "libgcc-ng                 12.2.0              h65d4601_19    conda-forge\r\n",
      "libgfortran-ng            12.2.0              h69a702a_19    conda-forge\r\n",
      "libgfortran5              12.2.0              h337968e_19    conda-forge\r\n",
      "libgomp                   12.2.0              h65d4601_19    conda-forge\r\n",
      "libiconv                  1.17                 h166bdaf_0    conda-forge\r\n",
      "liblapack                 3.9.0           16_linux64_openblas    conda-forge\r\n",
      "libllvm11                 11.1.0               he0ac6c6_5    conda-forge\r\n",
      "libnghttp2                1.47.0               hff17c54_1    conda-forge\r\n",
      "libnsl                    2.0.0                h7f98852_0    conda-forge\r\n",
      "libopenblas               0.3.21          pthreads_h78a6416_3    conda-forge\r\n",
      "libpng                    1.6.38               h753d276_0    conda-forge\r\n",
      "libsqlite                 3.39.4               h753d276_0    conda-forge\r\n",
      "libssh2                   1.10.0               hf14f497_3    conda-forge\r\n",
      "libstdcxx-ng              12.2.0              h46fd767_19    conda-forge\r\n",
      "libtiff                   4.4.0                h55922b4_4    conda-forge\r\n",
      "libuuid                   2.32.1            h7f98852_1000    conda-forge\r\n",
      "libwebp-base              1.2.4                h166bdaf_0    conda-forge\r\n",
      "libxcb                    1.13              h7f98852_1004    conda-forge\r\n",
      "libxml2                   2.10.3               h7463322_0    conda-forge\r\n",
      "libzlib                   1.2.13               h166bdaf_4    conda-forge\r\n",
      "llvmlite                  0.39.1           py39h7d9a04d_1    conda-forge\r\n",
      "matplotlib-base           3.6.2            py39hf9fd14e_0    conda-forge\r\n",
      "metis                     5.1.0             h58526e2_1006    conda-forge\r\n",
      "mpfr                      4.1.0                h9202a9a_1    conda-forge\r\n",
      "munkres                   1.1.4              pyh9f0ad1d_0    conda-forge\r\n",
      "natsort                   8.2.0              pyhd8ed1ab_0    conda-forge\r\n",
      "ncurses                   6.3                  h27087fc_1    conda-forge\r\n",
      "networkx                  2.8.8              pyhd8ed1ab_0    conda-forge\r\n",
      "numba                     0.56.3           py39h61ddf18_0    conda-forge\r\n",
      "numpy                     1.20.3           py39hdbf815f_0    conda-forge\r\n",
      "openjpeg                  2.5.0                h7d73246_1    conda-forge\r\n",
      "openssl                   3.0.7                h166bdaf_0    conda-forge\r\n",
      "packaging                 21.3               pyhd8ed1ab_0    conda-forge\r\n",
      "pandas                    1.5.1            py39h4661b88_1    conda-forge\r\n",
      "param                     1.12.2                   pypi_0    pypi\r\n",
      "parasail-python           1.3.3            py39h2add14b_0    bioconda\r\n",
      "patsy                     0.5.3              pyhd8ed1ab_0    conda-forge\r\n",
      "pillow                    9.2.0            py39hf3a2cdf_3    conda-forge\r\n",
      "pip                       22.3.1             pyhd8ed1ab_0    conda-forge\r\n",
      "pthread-stubs             0.4               h36c2ea0_1001    conda-forge\r\n",
      "pycparser                 2.21               pyhd3eb1b0_0  \r\n",
      "pyct                      0.4.8            py39h06a4308_1  \r\n",
      "pynndescent               0.5.8              pyh1a96a4e_0    conda-forge\r\n",
      "pyopenssl                 22.0.0             pyhd3eb1b0_0  \r\n",
      "pyparsing                 3.0.9              pyhd8ed1ab_0    conda-forge\r\n",
      "pysocks                   1.7.1            py39h06a4308_0  \r\n",
      "python                    3.9.13          h2660328_0_cpython    conda-forge\r\n",
      "python-dateutil           2.8.2              pyhd8ed1ab_0    conda-forge\r\n",
      "python-igraph             0.10.2           py39h441ba2a_1    conda-forge\r\n",
      "python-levenshtein        0.20.8             pyhd8ed1ab_0    conda-forge\r\n",
      "python_abi                3.9                      2_cp39    conda-forge\r\n",
      "pytz                      2022.6             pyhd8ed1ab_0    conda-forge\r\n",
      "pyyaml                    6.0              py39hb9d737c_5    conda-forge\r\n",
      "rapidfuzz                 2.13.2           py39h5a03fae_0    conda-forge\r\n",
      "readline                  8.1.2                h0f457ee_0    conda-forge\r\n",
      "requests                  2.28.1           py39h06a4308_0  \r\n",
      "scanpy                    1.9.1              pyhd8ed1ab_0    conda-forge\r\n",
      "scikit-learn              1.1.3            py39hd5c8da3_1    conda-forge\r\n",
      "scipy                     1.9.3            py39hddc5342_2    conda-forge\r\n",
      "scirpy                    0.11.1             pyhdfd78af_0    bioconda\r\n",
      "seaborn                   0.12.1               hd8ed1ab_0    conda-forge\r\n",
      "seaborn-base              0.12.1             pyhd8ed1ab_0    conda-forge\r\n",
      "session-info              1.0.0              pyhd8ed1ab_0    conda-forge\r\n",
      "setuptools                65.5.1             pyhd8ed1ab_0    conda-forge\r\n",
      "six                       1.16.0             pyh6c4a22f_0    conda-forge\r\n",
      "sqlite                    3.39.4               h4ff8645_0    conda-forge\r\n",
      "squarify                  0.4.3                      py_0    conda-forge\r\n",
      "statsmodels               0.13.5           py39h2ae25f5_2    conda-forge\r\n",
      "stdlib-list               0.8.0              pyhd8ed1ab_0    conda-forge\r\n",
      "suitesparse               5.10.1               h9e50725_1    conda-forge\r\n",
      "tbb                       2021.7.0             h924138e_0    conda-forge\r\n",
      "texttable                 1.6.4              pyhd8ed1ab_0    conda-forge\r\n",
      "threadpoolctl             3.1.0              pyh8a188c0_0    conda-forge\r\n",
      "tk                        8.6.12               h27826a3_0    conda-forge\r\n",
      "tqdm                      4.64.1             pyhd8ed1ab_0    conda-forge\r\n",
      "typing_extensions         4.4.0              pyha770c72_0    conda-forge\r\n",
      "tzdata                    2022f                h191b570_0    conda-forge\r\n",
      "umap-learn                0.5.3            py39hf3d152e_0    conda-forge\r\n",
      "unicodedata2              15.0.0           py39hb9d737c_0    conda-forge\r\n",
      "urllib3                   1.26.12          py39h06a4308_0  \r\n",
      "wheel                     0.38.4             pyhd8ed1ab_0    conda-forge\r\n",
      "xorg-libxau               1.0.9                h7f98852_0    conda-forge\r\n",
      "xorg-libxdmcp             1.1.3                h7f98852_0    conda-forge\r\n",
      "xz                        5.2.6                h166bdaf_0    conda-forge\r\n",
      "yaml                      0.2.5                h7f98852_2    conda-forge\r\n",
      "yamlordereddictloader     0.4.0                      py_0    conda-forge\r\n",
      "zipp                      3.10.0             pyhd8ed1ab_0    conda-forge\r\n",
      "zstd                      1.5.2                h6239696_4    conda-forge\r\n"
     ]
    }
   ],
   "source": [
    "!conda list"
   ]
  },
  {
   "cell_type": "code",
   "execution_count": 5,
   "id": "63972b59",
   "metadata": {},
   "outputs": [],
   "source": [
    "clones_alpha = pd.read_csv(\"../../data/alpha_clones.tsv\", index_col = 0)"
   ]
  },
  {
   "cell_type": "code",
   "execution_count": 164,
   "id": "28a37ba0",
   "metadata": {
    "scrolled": true
   },
   "outputs": [
    {
     "data": {
      "text/html": [
       "<div>\n",
       "<style scoped>\n",
       "    .dataframe tbody tr th:only-of-type {\n",
       "        vertical-align: middle;\n",
       "    }\n",
       "\n",
       "    .dataframe tbody tr th {\n",
       "        vertical-align: top;\n",
       "    }\n",
       "\n",
       "    .dataframe thead th {\n",
       "        text-align: right;\n",
       "    }\n",
       "</style>\n",
       "<table border=\"1\" class=\"dataframe\">\n",
       "  <thead>\n",
       "    <tr style=\"text-align: right;\">\n",
       "      <th></th>\n",
       "      <th>id</th>\n",
       "      <th>source</th>\n",
       "      <th>cloneId</th>\n",
       "      <th>cloneCount</th>\n",
       "      <th>cloneFraction</th>\n",
       "      <th>targetSequences</th>\n",
       "      <th>nSeqCDR3</th>\n",
       "      <th>aaSeqCDR3</th>\n",
       "    </tr>\n",
       "  </thead>\n",
       "  <tbody>\n",
       "    <tr>\n",
       "      <th>1</th>\n",
       "      <td>ID10</td>\n",
       "      <td>ID10_1st_clones.txt</td>\n",
       "      <td>0</td>\n",
       "      <td>133</td>\n",
       "      <td>0.013147</td>\n",
       "      <td>TGTGCCAGCAGTCCTACGGTTCCGGGCCCTAACACCGGGGAGCTGT...</td>\n",
       "      <td>TGTGCCAGCAGTCCTACGGTTCCGGGCCCTAACACCGGGGAGCTGT...</td>\n",
       "      <td>CASSPTVPGPNTGELFF</td>\n",
       "    </tr>\n",
       "    <tr>\n",
       "      <th>2</th>\n",
       "      <td>ID10</td>\n",
       "      <td>ID10_1st_clones.txt</td>\n",
       "      <td>1</td>\n",
       "      <td>94</td>\n",
       "      <td>0.009292</td>\n",
       "      <td>TGTGCCAGCAGCCAAGAGACAGGGAGACCTTTCTTT</td>\n",
       "      <td>TGTGCCAGCAGCCAAGAGACAGGGAGACCTTTCTTT</td>\n",
       "      <td>CASSQETGRPFF</td>\n",
       "    </tr>\n",
       "    <tr>\n",
       "      <th>3</th>\n",
       "      <td>ID10</td>\n",
       "      <td>ID10_1st_clones.txt</td>\n",
       "      <td>2</td>\n",
       "      <td>67</td>\n",
       "      <td>0.006623</td>\n",
       "      <td>TGTGCCAGCAGCACGACTAGCGGCTACAATGAGCAGTTCTTC</td>\n",
       "      <td>TGTGCCAGCAGCACGACTAGCGGCTACAATGAGCAGTTCTTC</td>\n",
       "      <td>CASSTTSGYNEQFF</td>\n",
       "    </tr>\n",
       "    <tr>\n",
       "      <th>4</th>\n",
       "      <td>ID10</td>\n",
       "      <td>ID10_1st_clones.txt</td>\n",
       "      <td>3</td>\n",
       "      <td>65</td>\n",
       "      <td>0.006425</td>\n",
       "      <td>TGCGCCAGCAGCCCACCACAGGGCTGGTCGAACACCGGGGAGCTGT...</td>\n",
       "      <td>TGCGCCAGCAGCCCACCACAGGGCTGGTCGAACACCGGGGAGCTGT...</td>\n",
       "      <td>CASSPPQGWSNTGELFF</td>\n",
       "    </tr>\n",
       "    <tr>\n",
       "      <th>5</th>\n",
       "      <td>ID10</td>\n",
       "      <td>ID10_1st_clones.txt</td>\n",
       "      <td>4</td>\n",
       "      <td>44</td>\n",
       "      <td>0.004350</td>\n",
       "      <td>TGTGCCAGCATGGACCGGGGACGCACAGATACGCAGTATTTT</td>\n",
       "      <td>TGTGCCAGCATGGACCGGGGACGCACAGATACGCAGTATTTT</td>\n",
       "      <td>CASMDRGRTDTQYF</td>\n",
       "    </tr>\n",
       "    <tr>\n",
       "      <th>...</th>\n",
       "      <td>...</td>\n",
       "      <td>...</td>\n",
       "      <td>...</td>\n",
       "      <td>...</td>\n",
       "      <td>...</td>\n",
       "      <td>...</td>\n",
       "      <td>...</td>\n",
       "      <td>...</td>\n",
       "    </tr>\n",
       "    <tr>\n",
       "      <th>366398</th>\n",
       "      <td>ID8</td>\n",
       "      <td>ID8_2nd_clones.txt</td>\n",
       "      <td>129</td>\n",
       "      <td>11</td>\n",
       "      <td>0.000750</td>\n",
       "      <td>TGTCAAGTGTGGGACACCGGCACTGTAATTTTC</td>\n",
       "      <td>TGTCAAGTGTGGGACACCGGCACTGTAATTTTC</td>\n",
       "      <td>CQVWDTGTVIF</td>\n",
       "    </tr>\n",
       "    <tr>\n",
       "      <th>366399</th>\n",
       "      <td>ID8</td>\n",
       "      <td>ID8_2nd_clones.txt</td>\n",
       "      <td>130</td>\n",
       "      <td>11</td>\n",
       "      <td>0.000750</td>\n",
       "      <td>TGCCAACAGTATCATAGTTATCCCTGGACGTTC</td>\n",
       "      <td>TGCCAACAGTATCATAGTTATCCCTGGACGTTC</td>\n",
       "      <td>CQQYHSYPWTF</td>\n",
       "    </tr>\n",
       "    <tr>\n",
       "      <th>366400</th>\n",
       "      <td>ID8</td>\n",
       "      <td>ID8_2nd_clones.txt</td>\n",
       "      <td>131</td>\n",
       "      <td>11</td>\n",
       "      <td>0.000750</td>\n",
       "      <td>TGCATGCAATTTCTGCAAACTCCGATCACCTTC</td>\n",
       "      <td>TGCATGCAATTTCTGCAAACTCCGATCACCTTC</td>\n",
       "      <td>CMQFLQTPITF</td>\n",
       "    </tr>\n",
       "    <tr>\n",
       "      <th>366401</th>\n",
       "      <td>ID8</td>\n",
       "      <td>ID8_2nd_clones.txt</td>\n",
       "      <td>132</td>\n",
       "      <td>11</td>\n",
       "      <td>0.000750</td>\n",
       "      <td>TGCATGCAAGCTCTGCAAACTCCGTACACTTTT</td>\n",
       "      <td>TGCATGCAAGCTCTGCAAACTCCGTACACTTTT</td>\n",
       "      <td>CMQALQTPYTF</td>\n",
       "    </tr>\n",
       "    <tr>\n",
       "      <th>366402</th>\n",
       "      <td>ID8</td>\n",
       "      <td>ID8_2nd_clones.txt</td>\n",
       "      <td>133</td>\n",
       "      <td>11</td>\n",
       "      <td>0.000750</td>\n",
       "      <td>TGCATGCAAGCTCTACAAACTCCTCTCACTTTC</td>\n",
       "      <td>TGCATGCAAGCTCTACAAACTCCTCTCACTTTC</td>\n",
       "      <td>CMQALQTPLTF</td>\n",
       "    </tr>\n",
       "  </tbody>\n",
       "</table>\n",
       "<p>11622 rows × 8 columns</p>\n",
       "</div>"
      ],
      "text/plain": [
       "          id               source  cloneId  cloneCount  cloneFraction  \\\n",
       "1       ID10  ID10_1st_clones.txt        0         133       0.013147   \n",
       "2       ID10  ID10_1st_clones.txt        1          94       0.009292   \n",
       "3       ID10  ID10_1st_clones.txt        2          67       0.006623   \n",
       "4       ID10  ID10_1st_clones.txt        3          65       0.006425   \n",
       "5       ID10  ID10_1st_clones.txt        4          44       0.004350   \n",
       "...      ...                  ...      ...         ...            ...   \n",
       "366398   ID8   ID8_2nd_clones.txt      129          11       0.000750   \n",
       "366399   ID8   ID8_2nd_clones.txt      130          11       0.000750   \n",
       "366400   ID8   ID8_2nd_clones.txt      131          11       0.000750   \n",
       "366401   ID8   ID8_2nd_clones.txt      132          11       0.000750   \n",
       "366402   ID8   ID8_2nd_clones.txt      133          11       0.000750   \n",
       "\n",
       "                                          targetSequences  \\\n",
       "1       TGTGCCAGCAGTCCTACGGTTCCGGGCCCTAACACCGGGGAGCTGT...   \n",
       "2                    TGTGCCAGCAGCCAAGAGACAGGGAGACCTTTCTTT   \n",
       "3              TGTGCCAGCAGCACGACTAGCGGCTACAATGAGCAGTTCTTC   \n",
       "4       TGCGCCAGCAGCCCACCACAGGGCTGGTCGAACACCGGGGAGCTGT...   \n",
       "5              TGTGCCAGCATGGACCGGGGACGCACAGATACGCAGTATTTT   \n",
       "...                                                   ...   \n",
       "366398                  TGTCAAGTGTGGGACACCGGCACTGTAATTTTC   \n",
       "366399                  TGCCAACAGTATCATAGTTATCCCTGGACGTTC   \n",
       "366400                  TGCATGCAATTTCTGCAAACTCCGATCACCTTC   \n",
       "366401                  TGCATGCAAGCTCTGCAAACTCCGTACACTTTT   \n",
       "366402                  TGCATGCAAGCTCTACAAACTCCTCTCACTTTC   \n",
       "\n",
       "                                                 nSeqCDR3          aaSeqCDR3  \n",
       "1       TGTGCCAGCAGTCCTACGGTTCCGGGCCCTAACACCGGGGAGCTGT...  CASSPTVPGPNTGELFF  \n",
       "2                    TGTGCCAGCAGCCAAGAGACAGGGAGACCTTTCTTT       CASSQETGRPFF  \n",
       "3              TGTGCCAGCAGCACGACTAGCGGCTACAATGAGCAGTTCTTC     CASSTTSGYNEQFF  \n",
       "4       TGCGCCAGCAGCCCACCACAGGGCTGGTCGAACACCGGGGAGCTGT...  CASSPPQGWSNTGELFF  \n",
       "5              TGTGCCAGCATGGACCGGGGACGCACAGATACGCAGTATTTT     CASMDRGRTDTQYF  \n",
       "...                                                   ...                ...  \n",
       "366398                  TGTCAAGTGTGGGACACCGGCACTGTAATTTTC        CQVWDTGTVIF  \n",
       "366399                  TGCCAACAGTATCATAGTTATCCCTGGACGTTC        CQQYHSYPWTF  \n",
       "366400                  TGCATGCAATTTCTGCAAACTCCGATCACCTTC        CMQFLQTPITF  \n",
       "366401                  TGCATGCAAGCTCTGCAAACTCCGTACACTTTT        CMQALQTPYTF  \n",
       "366402                  TGCATGCAAGCTCTACAAACTCCTCTCACTTTC        CMQALQTPLTF  \n",
       "\n",
       "[11622 rows x 8 columns]"
      ]
     },
     "execution_count": 164,
     "metadata": {},
     "output_type": "execute_result"
    }
   ],
   "source": [
    "clones_alpha[clones_alpha.cloneCount > 10]"
   ]
  },
  {
   "cell_type": "code",
   "execution_count": 7,
   "id": "485df4e4",
   "metadata": {
    "scrolled": true
   },
   "outputs": [
    {
     "name": "stdout",
     "output_type": "stream",
     "text": [
      "{'ID30', 'ID22', 'ID33', 'ID34', 'ID49', 'ID42', 'ID55', 'ID29', 'ID8', 'ID19', 'ID10', 'ID68', 'ID66', 'ID35', 'ID26', 'ID69', 'ID38', 'ID11', 'ID63', 'ID23', 'ID27', 'ID46', 'ID72', 'ID20', 'ID44', 'ID21', 'ID48', 'ID56'}\n"
     ]
    }
   ],
   "source": [
    "ids = set(clones_alpha[\"id\"])\n",
    "print(ids)"
   ]
  },
  {
   "cell_type": "code",
   "execution_count": 166,
   "id": "36597481",
   "metadata": {},
   "outputs": [
    {
     "data": {
      "text/plain": [
       "1         CASSPTVPGPNTGELFF\n",
       "2              CASSQETGRPFF\n",
       "3            CASSTTSGYNEQFF\n",
       "4         CASSPPQGWSNTGELFF\n",
       "5            CASMDRGRTDTQYF\n",
       "                ...        \n",
       "366398          CQVWDTGTVIF\n",
       "366399          CQQYHSYPWTF\n",
       "366400          CMQFLQTPITF\n",
       "366401          CMQALQTPYTF\n",
       "366402          CMQALQTPLTF\n",
       "Name: aaSeqCDR3, Length: 11622, dtype: object"
      ]
     },
     "execution_count": 166,
     "metadata": {},
     "output_type": "execute_result"
    }
   ],
   "source": [
    "clones_alpha[clones_alpha.cloneCount > 10][\"aaSeqCDR3\"]"
   ]
  },
  {
   "cell_type": "code",
   "execution_count": 168,
   "id": "80cfbeb7",
   "metadata": {
    "scrolled": true
   },
   "outputs": [
    {
     "name": "stderr",
     "output_type": "stream",
     "text": [
      "/nfs/home/students/l.willruth/.local/lib/python3.10/site-packages/scirpy/ir_dist/metrics.py:200: FutureWarning: The behavior of `series[i:j]` with an integer-dtype index is deprecated. In a future version, this will be treated as *label-based* indexing, consistent with e.g. `series[i]` lookups. To retain the old behavior, use `series.iloc[i:j]`. To get the future behavior, use `series.loc[i:j]`.\n",
      "  yield seqs1[row : row + block_size], None, (row, row)\n",
      "/nfs/home/students/l.willruth/.local/lib/python3.10/site-packages/scirpy/ir_dist/metrics.py:202: FutureWarning: The behavior of `series[i:j]` with an integer-dtype index is deprecated. In a future version, this will be treated as *label-based* indexing, consistent with e.g. `series[i]` lookups. To retain the old behavior, use `series.iloc[i:j]`. To get the future behavior, use `series.loc[i:j]`.\n",
      "  yield seqs1[row : row + block_size], seqs2[\n",
      "  0%|                                                                                                                                               | 0/27261 [00:00<?, ?it/s]/nfs/home/students/l.willruth/.local/lib/python3.10/site-packages/scirpy/ir_dist/metrics.py:474: FutureWarning: The behavior of `series[i:j]` with an integer-dtype index is deprecated. In a future version, this will be treated as *label-based* indexing, consistent with e.g. `series[i]` lookups. To retain the old behavior, use `series.iloc[i:j]`. To get the future behavior, use `series.loc[i:j]`.\n",
      "  for col, s2 in enumerate(seqs2[col_start:], start=col_start):\n",
      "/nfs/home/students/l.willruth/.local/lib/python3.10/site-packages/scirpy/ir_dist/metrics.py:474: FutureWarning: The behavior of `series[i:j]` with an integer-dtype index is deprecated. In a future version, this will be treated as *label-based* indexing, consistent with e.g. `series[i]` lookups. To retain the old behavior, use `series.iloc[i:j]`. To get the future behavior, use `series.loc[i:j]`.\n",
      "  for col, s2 in enumerate(seqs2[col_start:], start=col_start):\n",
      "/nfs/home/students/l.willruth/.local/lib/python3.10/site-packages/scirpy/ir_dist/metrics.py:474: FutureWarning: The behavior of `series[i:j]` with an integer-dtype index is deprecated. In a future version, this will be treated as *label-based* indexing, consistent with e.g. `series[i]` lookups. To retain the old behavior, use `series.iloc[i:j]`. To get the future behavior, use `series.loc[i:j]`.\n",
      "  for col, s2 in enumerate(seqs2[col_start:], start=col_start):\n",
      "/nfs/home/students/l.willruth/.local/lib/python3.10/site-packages/scirpy/ir_dist/metrics.py:474: FutureWarning: The behavior of `series[i:j]` with an integer-dtype index is deprecated. In a future version, this will be treated as *label-based* indexing, consistent with e.g. `series[i]` lookups. To retain the old behavior, use `series.iloc[i:j]`. To get the future behavior, use `series.loc[i:j]`.\n",
      "  for col, s2 in enumerate(seqs2[col_start:], start=col_start):\n",
      "/nfs/home/students/l.willruth/.local/lib/python3.10/site-packages/scirpy/ir_dist/metrics.py:474: FutureWarning: The behavior of `series[i:j]` with an integer-dtype index is deprecated. In a future version, this will be treated as *label-based* indexing, consistent with e.g. `series[i]` lookups. To retain the old behavior, use `series.iloc[i:j]`. To get the future behavior, use `series.loc[i:j]`.\n",
      "  for col, s2 in enumerate(seqs2[col_start:], start=col_start):\n",
      "/nfs/home/students/l.willruth/.local/lib/python3.10/site-packages/scirpy/ir_dist/metrics.py:474: FutureWarning: The behavior of `series[i:j]` with an integer-dtype index is deprecated. In a future version, this will be treated as *label-based* indexing, consistent with e.g. `series[i]` lookups. To retain the old behavior, use `series.iloc[i:j]`. To get the future behavior, use `series.loc[i:j]`.\n",
      "  for col, s2 in enumerate(seqs2[col_start:], start=col_start):\n",
      "/nfs/home/students/l.willruth/.local/lib/python3.10/site-packages/scirpy/ir_dist/metrics.py:474: FutureWarning: The behavior of `series[i:j]` with an integer-dtype index is deprecated. In a future version, this will be treated as *label-based* indexing, consistent with e.g. `series[i]` lookups. To retain the old behavior, use `series.iloc[i:j]`. To get the future behavior, use `series.loc[i:j]`.\n",
      "  for col, s2 in enumerate(seqs2[col_start:], start=col_start):\n",
      "/nfs/home/students/l.willruth/.local/lib/python3.10/site-packages/scirpy/ir_dist/metrics.py:474: FutureWarning: The behavior of `series[i:j]` with an integer-dtype index is deprecated. In a future version, this will be treated as *label-based* indexing, consistent with e.g. `series[i]` lookups. To retain the old behavior, use `series.iloc[i:j]`. To get the future behavior, use `series.loc[i:j]`.\n",
      "  for col, s2 in enumerate(seqs2[col_start:], start=col_start):\n",
      "/nfs/home/students/l.willruth/.local/lib/python3.10/site-packages/scirpy/ir_dist/metrics.py:474: FutureWarning: The behavior of `series[i:j]` with an integer-dtype index is deprecated. In a future version, this will be treated as *label-based* indexing, consistent with e.g. `series[i]` lookups. To retain the old behavior, use `series.iloc[i:j]`. To get the future behavior, use `series.loc[i:j]`.\n",
      "  for col, s2 in enumerate(seqs2[col_start:], start=col_start):\n",
      "/nfs/home/students/l.willruth/.local/lib/python3.10/site-packages/scirpy/ir_dist/metrics.py:474: FutureWarning: The behavior of `series[i:j]` with an integer-dtype index is deprecated. In a future version, this will be treated as *label-based* indexing, consistent with e.g. `series[i]` lookups. To retain the old behavior, use `series.iloc[i:j]`. To get the future behavior, use `series.loc[i:j]`.\n",
      "  for col, s2 in enumerate(seqs2[col_start:], start=col_start):\n",
      "/nfs/home/students/l.willruth/.local/lib/python3.10/site-packages/scirpy/ir_dist/metrics.py:474: FutureWarning: The behavior of `series[i:j]` with an integer-dtype index is deprecated. In a future version, this will be treated as *label-based* indexing, consistent with e.g. `series[i]` lookups. To retain the old behavior, use `series.iloc[i:j]`. To get the future behavior, use `series.loc[i:j]`.\n",
      "  for col, s2 in enumerate(seqs2[col_start:], start=col_start):\n",
      "/nfs/home/students/l.willruth/.local/lib/python3.10/site-packages/scirpy/ir_dist/metrics.py:474: FutureWarning: The behavior of `series[i:j]` with an integer-dtype index is deprecated. In a future version, this will be treated as *label-based* indexing, consistent with e.g. `series[i]` lookups. To retain the old behavior, use `series.iloc[i:j]`. To get the future behavior, use `series.loc[i:j]`.\n",
      "  for col, s2 in enumerate(seqs2[col_start:], start=col_start):\n",
      "/nfs/home/students/l.willruth/.local/lib/python3.10/site-packages/scirpy/ir_dist/metrics.py:474: FutureWarning: The behavior of `series[i:j]` with an integer-dtype index is deprecated. In a future version, this will be treated as *label-based* indexing, consistent with e.g. `series[i]` lookups. To retain the old behavior, use `series.iloc[i:j]`. To get the future behavior, use `series.loc[i:j]`.\n",
      "  for col, s2 in enumerate(seqs2[col_start:], start=col_start):\n",
      "/nfs/home/students/l.willruth/.local/lib/python3.10/site-packages/scirpy/ir_dist/metrics.py:474: FutureWarning: The behavior of `series[i:j]` with an integer-dtype index is deprecated. In a future version, this will be treated as *label-based* indexing, consistent with e.g. `series[i]` lookups. To retain the old behavior, use `series.iloc[i:j]`. To get the future behavior, use `series.loc[i:j]`.\n",
      "  for col, s2 in enumerate(seqs2[col_start:], start=col_start):\n",
      "/nfs/home/students/l.willruth/.local/lib/python3.10/site-packages/scirpy/ir_dist/metrics.py:474: FutureWarning: The behavior of `series[i:j]` with an integer-dtype index is deprecated. In a future version, this will be treated as *label-based* indexing, consistent with e.g. `series[i]` lookups. To retain the old behavior, use `series.iloc[i:j]`. To get the future behavior, use `series.loc[i:j]`.\n",
      "  for col, s2 in enumerate(seqs2[col_start:], start=col_start):\n",
      "/nfs/home/students/l.willruth/.local/lib/python3.10/site-packages/scirpy/ir_dist/metrics.py:474: FutureWarning: The behavior of `series[i:j]` with an integer-dtype index is deprecated. In a future version, this will be treated as *label-based* indexing, consistent with e.g. `series[i]` lookups. To retain the old behavior, use `series.iloc[i:j]`. To get the future behavior, use `series.loc[i:j]`.\n",
      "  for col, s2 in enumerate(seqs2[col_start:], start=col_start):\n"
     ]
    },
    {
     "name": "stderr",
     "output_type": "stream",
     "text": [
      "/nfs/home/students/l.willruth/.local/lib/python3.10/site-packages/scirpy/ir_dist/metrics.py:474: FutureWarning: The behavior of `series[i:j]` with an integer-dtype index is deprecated. In a future version, this will be treated as *label-based* indexing, consistent with e.g. `series[i]` lookups. To retain the old behavior, use `series.iloc[i:j]`. To get the future behavior, use `series.loc[i:j]`.\n",
      "  for col, s2 in enumerate(seqs2[col_start:], start=col_start):\n",
      "/nfs/home/students/l.willruth/.local/lib/python3.10/site-packages/scirpy/ir_dist/metrics.py:474: FutureWarning: The behavior of `series[i:j]` with an integer-dtype index is deprecated. In a future version, this will be treated as *label-based* indexing, consistent with e.g. `series[i]` lookups. To retain the old behavior, use `series.iloc[i:j]`. To get the future behavior, use `series.loc[i:j]`.\n",
      "  for col, s2 in enumerate(seqs2[col_start:], start=col_start):\n",
      "/nfs/home/students/l.willruth/.local/lib/python3.10/site-packages/scirpy/ir_dist/metrics.py:474: FutureWarning: The behavior of `series[i:j]` with an integer-dtype index is deprecated. In a future version, this will be treated as *label-based* indexing, consistent with e.g. `series[i]` lookups. To retain the old behavior, use `series.iloc[i:j]`. To get the future behavior, use `series.loc[i:j]`.\n",
      "  for col, s2 in enumerate(seqs2[col_start:], start=col_start):\n",
      "/nfs/home/students/l.willruth/.local/lib/python3.10/site-packages/scirpy/ir_dist/metrics.py:474: FutureWarning: The behavior of `series[i:j]` with an integer-dtype index is deprecated. In a future version, this will be treated as *label-based* indexing, consistent with e.g. `series[i]` lookups. To retain the old behavior, use `series.iloc[i:j]`. To get the future behavior, use `series.loc[i:j]`.\n",
      "  for col, s2 in enumerate(seqs2[col_start:], start=col_start):\n",
      "/nfs/home/students/l.willruth/.local/lib/python3.10/site-packages/scirpy/ir_dist/metrics.py:474: FutureWarning: The behavior of `series[i:j]` with an integer-dtype index is deprecated. In a future version, this will be treated as *label-based* indexing, consistent with e.g. `series[i]` lookups. To retain the old behavior, use `series.iloc[i:j]`. To get the future behavior, use `series.loc[i:j]`.\n",
      "  for col, s2 in enumerate(seqs2[col_start:], start=col_start):\n",
      "/nfs/home/students/l.willruth/.local/lib/python3.10/site-packages/scirpy/ir_dist/metrics.py:474: FutureWarning: The behavior of `series[i:j]` with an integer-dtype index is deprecated. In a future version, this will be treated as *label-based* indexing, consistent with e.g. `series[i]` lookups. To retain the old behavior, use `series.iloc[i:j]`. To get the future behavior, use `series.loc[i:j]`.\n",
      "  for col, s2 in enumerate(seqs2[col_start:], start=col_start):\n",
      "/nfs/home/students/l.willruth/.local/lib/python3.10/site-packages/scirpy/ir_dist/metrics.py:474: FutureWarning: The behavior of `series[i:j]` with an integer-dtype index is deprecated. In a future version, this will be treated as *label-based* indexing, consistent with e.g. `series[i]` lookups. To retain the old behavior, use `series.iloc[i:j]`. To get the future behavior, use `series.loc[i:j]`.\n",
      "  for col, s2 in enumerate(seqs2[col_start:], start=col_start):\n",
      "/nfs/home/students/l.willruth/.local/lib/python3.10/site-packages/scirpy/ir_dist/metrics.py:474: FutureWarning: The behavior of `series[i:j]` with an integer-dtype index is deprecated. In a future version, this will be treated as *label-based* indexing, consistent with e.g. `series[i]` lookups. To retain the old behavior, use `series.iloc[i:j]`. To get the future behavior, use `series.loc[i:j]`.\n",
      "  for col, s2 in enumerate(seqs2[col_start:], start=col_start):\n",
      "/nfs/home/students/l.willruth/.local/lib/python3.10/site-packages/scirpy/ir_dist/metrics.py:474: FutureWarning: The behavior of `series[i:j]` with an integer-dtype index is deprecated. In a future version, this will be treated as *label-based* indexing, consistent with e.g. `series[i]` lookups. To retain the old behavior, use `series.iloc[i:j]`. To get the future behavior, use `series.loc[i:j]`.\n",
      "  for col, s2 in enumerate(seqs2[col_start:], start=col_start):\n",
      "100%|██████████████████████████████████████████████████████████████████████████████████████████████████████████████████████████████████| 27261/27261 [00:52<00:00, 519.82it/s]\n"
     ]
    }
   ],
   "source": [
    "adc = metrics.AlignmentDistanceCalculator(cutoff = 15, n_jobs = 15)\n",
    "dist_mat = adc.calc_dist_mat(seqs = clones_alpha[clones_alpha.cloneCount > 10][\"aaSeqCDR3\"])"
   ]
  },
  {
   "cell_type": "code",
   "execution_count": 169,
   "id": "86805f40",
   "metadata": {
    "scrolled": true
   },
   "outputs": [
    {
     "data": {
      "text/plain": [
       "<11622x11622 sparse matrix of type '<class 'numpy.float64'>'\n",
       "\twith 1542114 stored elements in Compressed Sparse Row format>"
      ]
     },
     "execution_count": 169,
     "metadata": {},
     "output_type": "execute_result"
    }
   ],
   "source": [
    "dist_mat"
   ]
  },
  {
   "cell_type": "code",
   "execution_count": 170,
   "id": "3bfdcff9",
   "metadata": {
    "scrolled": false
   },
   "outputs": [
    {
     "data": {
      "text/plain": [
       "<AxesSubplot: >"
      ]
     },
     "execution_count": 170,
     "metadata": {},
     "output_type": "execute_result"
    },
    {
     "data": {
      "image/png": "[encoded data removed]",
      "text/plain": [
       "<Figure size 640x480 with 2 Axes>"
      ]
     },
     "metadata": {},
     "output_type": "display_data"
    }
   ],
   "source": [
    "sns.heatmap(dist_mat.toarray()) #, cmap = sns.color_palette(\"light:b\", as_cmap = True))"
   ]
  },
  {
   "cell_type": "code",
   "execution_count": 171,
   "id": "05ee6ba8",
   "metadata": {},
   "outputs": [],
   "source": [
    "dist_mat.toarray().tofile(\"../../data/alpha_count10_distances.txt\")"
   ]
  },
  {
   "cell_type": "code",
   "execution_count": 172,
   "id": "8c56dd4d",
   "metadata": {},
   "outputs": [],
   "source": [
    "np.savetxt(\"../../data/alpha_count10_distances.txt\", dist_mat.toarray())"
   ]
  },
  {
   "cell_type": "code",
   "execution_count": 12,
   "id": "4939adf5",
   "metadata": {},
   "outputs": [],
   "source": [
    "alpha_distances = dist_mat.copy()"
   ]
  },
  {
   "cell_type": "code",
   "execution_count": 14,
   "id": "12c4296b",
   "metadata": {},
   "outputs": [],
   "source": [
    "nonzero_indices = alpha_distances.nonzero()"
   ]
  },
  {
   "cell_type": "code",
   "execution_count": 18,
   "id": "b85c776e",
   "metadata": {},
   "outputs": [],
   "source": [
    "d = {\"x\" : nonzero_indices[0],\n",
    "    \"y\" : nonzero_indices[1]}\n",
    "nonzero_indices_df = pd.DataFrame(data=d)"
   ]
  },
  {
   "cell_type": "code",
   "execution_count": 27,
   "id": "c1ffa6c1",
   "metadata": {},
   "outputs": [],
   "source": [
    "nonzero_indices_df = nonzero_indices_df[nonzero_indices_df.x != nonzero_indices_df.y]"
   ]
  },
  {
   "cell_type": "code",
   "execution_count": 51,
   "id": "9741a11e",
   "metadata": {},
   "outputs": [],
   "source": [
    "nonzero_indices_df.reset_index(drop=True, inplace=True)"
   ]
  },
  {
   "cell_type": "code",
   "execution_count": 68,
   "id": "26e493b4",
   "metadata": {},
   "outputs": [
    {
     "ename": "TypeError",
     "evalue": "_LocationIndexer.__call__() takes from 1 to 2 positional arguments but 3 were given",
     "output_type": "error",
     "traceback": [
      "\u001b[0;31m---------------------------------------------------------------------------\u001b[0m",
      "\u001b[0;31mTypeError\u001b[0m                                 Traceback (most recent call last)",
      "Cell \u001b[0;32mIn [68], line 1\u001b[0m\n\u001b[0;32m----> 1\u001b[0m \u001b[43mnonzero_indices_df\u001b[49m\u001b[38;5;241;43m.\u001b[39;49m\u001b[43miloc\u001b[49m\u001b[43m(\u001b[49m\u001b[43m[\u001b[49m\u001b[38;5;241;43m5380\u001b[39;49m\u001b[43m,\u001b[49m\u001b[38;5;241;43m8382\u001b[39;49m\u001b[43m]\u001b[49m\u001b[43m,\u001b[49m\u001b[43m \u001b[49m\u001b[38;5;124;43m\"\u001b[39;49m\u001b[38;5;124;43mx\u001b[39;49m\u001b[38;5;124;43m\"\u001b[39;49m\u001b[43m)\u001b[49m\n",
      "\u001b[0;31mTypeError\u001b[0m: _LocationIndexer.__call__() takes from 1 to 2 positional arguments but 3 were given"
     ]
    }
   ],
   "source": [
    "nonzero_indices_df.iloc([5380,8382], \"x\")"
   ]
  },
  {
   "cell_type": "code",
   "execution_count": 38,
   "id": "9983b388",
   "metadata": {
    "scrolled": true
   },
   "outputs": [
    {
     "data": {
      "text/plain": [
       "array([[1., 0., 0., ..., 0., 0., 0.],\n",
       "       [0., 1., 0., ..., 0., 0., 0.],\n",
       "       [0., 0., 1., ..., 0., 0., 0.],\n",
       "       ...,\n",
       "       [0., 0., 0., ..., 1., 0., 0.],\n",
       "       [0., 0., 0., ..., 0., 1., 0.],\n",
       "       [0., 0., 0., ..., 0., 0., 1.]])"
      ]
     },
     "execution_count": 38,
     "metadata": {},
     "output_type": "execute_result"
    }
   ],
   "source": [
    "alpha_distances.eliminate_zeros()\n",
    "alpha_distances.toarray()"
   ]
  },
  {
   "cell_type": "code",
   "execution_count": 73,
   "id": "4c095f3e",
   "metadata": {},
   "outputs": [
    {
     "data": {
      "text/html": [
       "<div>\n",
       "<style scoped>\n",
       "    .dataframe tbody tr th:only-of-type {\n",
       "        vertical-align: middle;\n",
       "    }\n",
       "\n",
       "    .dataframe tbody tr th {\n",
       "        vertical-align: top;\n",
       "    }\n",
       "\n",
       "    .dataframe thead th {\n",
       "        text-align: right;\n",
       "    }\n",
       "</style>\n",
       "<table border=\"1\" class=\"dataframe\">\n",
       "  <thead>\n",
       "    <tr style=\"text-align: right;\">\n",
       "      <th></th>\n",
       "      <th>x</th>\n",
       "      <th>y</th>\n",
       "    </tr>\n",
       "  </thead>\n",
       "  <tbody>\n",
       "    <tr>\n",
       "      <th>2</th>\n",
       "      <td>2</td>\n",
       "      <td>1225</td>\n",
       "    </tr>\n",
       "    <tr>\n",
       "      <th>3</th>\n",
       "      <td>2</td>\n",
       "      <td>3647</td>\n",
       "    </tr>\n",
       "    <tr>\n",
       "      <th>4</th>\n",
       "      <td>2</td>\n",
       "      <td>3674</td>\n",
       "    </tr>\n",
       "    <tr>\n",
       "      <th>5</th>\n",
       "      <td>2</td>\n",
       "      <td>5966</td>\n",
       "    </tr>\n",
       "  </tbody>\n",
       "</table>\n",
       "</div>"
      ],
      "text/plain": [
       "   x     y\n",
       "2  2  1225\n",
       "3  2  3647\n",
       "4  2  3674\n",
       "5  2  5966"
      ]
     },
     "execution_count": 73,
     "metadata": {},
     "output_type": "execute_result"
    }
   ],
   "source": [
    "nonzero_indices_df[nonzero_indices_df.x == 2]"
   ]
  },
  {
   "cell_type": "code",
   "execution_count": 70,
   "id": "bd07f198",
   "metadata": {
    "scrolled": true
   },
   "outputs": [
    {
     "data": {
      "text/html": [
       "<div>\n",
       "<style scoped>\n",
       "    .dataframe tbody tr th:only-of-type {\n",
       "        vertical-align: middle;\n",
       "    }\n",
       "\n",
       "    .dataframe tbody tr th {\n",
       "        vertical-align: top;\n",
       "    }\n",
       "\n",
       "    .dataframe thead th {\n",
       "        text-align: right;\n",
       "    }\n",
       "</style>\n",
       "<table border=\"1\" class=\"dataframe\">\n",
       "  <thead>\n",
       "    <tr style=\"text-align: right;\">\n",
       "      <th></th>\n",
       "      <th>x</th>\n",
       "      <th>y</th>\n",
       "    </tr>\n",
       "  </thead>\n",
       "  <tbody>\n",
       "    <tr>\n",
       "      <th>34405</th>\n",
       "      <td>3647</td>\n",
       "      <td>2</td>\n",
       "    </tr>\n",
       "    <tr>\n",
       "      <th>34406</th>\n",
       "      <td>3647</td>\n",
       "      <td>3666</td>\n",
       "    </tr>\n",
       "    <tr>\n",
       "      <th>34407</th>\n",
       "      <td>3647</td>\n",
       "      <td>5966</td>\n",
       "    </tr>\n",
       "    <tr>\n",
       "      <th>34408</th>\n",
       "      <td>3647</td>\n",
       "      <td>7160</td>\n",
       "    </tr>\n",
       "  </tbody>\n",
       "</table>\n",
       "</div>"
      ],
      "text/plain": [
       "          x     y\n",
       "34405  3647     2\n",
       "34406  3647  3666\n",
       "34407  3647  5966\n",
       "34408  3647  7160"
      ]
     },
     "execution_count": 70,
     "metadata": {},
     "output_type": "execute_result"
    }
   ],
   "source": [
    "nonzero_indices_df[nonzero_indices_df.x == 3647]"
   ]
  },
  {
   "cell_type": "code",
   "execution_count": 77,
   "id": "bab479f3",
   "metadata": {},
   "outputs": [],
   "source": [
    "from matplotlib import pyplot as plt"
   ]
  },
  {
   "cell_type": "code",
   "execution_count": 75,
   "id": "e4eea364",
   "metadata": {},
   "outputs": [],
   "source": [
    "from scipy.cluster.hierarchy import dendrogram, linkage"
   ]
  },
  {
   "cell_type": "code",
   "execution_count": 76,
   "id": "b30eabd8",
   "metadata": {},
   "outputs": [],
   "source": [
    "Z = linkage(alpha_distances.toarray(), \"ward\")"
   ]
  },
  {
   "cell_type": "code",
   "execution_count": 78,
   "id": "92d244c3",
   "metadata": {
    "scrolled": false
   },
   "outputs": [
    {
     "data": {
      "image/png": "[encoded data removed]",
      "text/plain": [
       "<Figure size 2500x1000 with 1 Axes>"
      ]
     },
     "metadata": {},
     "output_type": "display_data"
    }
   ],
   "source": [
    "fig = plt.figure(figsize=(25, 10))\n",
    "dn = dendrogram(Z)"
   ]
  },
  {
   "cell_type": "code",
   "execution_count": 104,
   "id": "5bd11239",
   "metadata": {},
   "outputs": [
    {
     "data": {
      "text/plain": [
       "<10000x10000 sparse matrix of type '<class 'numpy.float64'>'\n",
       "\twith 119380 stored elements in Compressed Sparse Row format>"
      ]
     },
     "execution_count": 104,
     "metadata": {},
     "output_type": "execute_result"
    }
   ],
   "source": [
    "alpha_distances"
   ]
  },
  {
   "cell_type": "code",
   "execution_count": 108,
   "id": "8467e39f",
   "metadata": {},
   "outputs": [],
   "source": [
    "alpha_distances.prune()"
   ]
  },
  {
   "cell_type": "code",
   "execution_count": 152,
   "id": "47b09e81",
   "metadata": {},
   "outputs": [
    {
     "data": {
      "text/plain": [
       "array([[1., 0., 0., ..., 0., 0., 0.],\n",
       "       [0., 1., 0., ..., 0., 0., 0.],\n",
       "       [0., 0., 1., ..., 0., 0., 0.],\n",
       "       ...,\n",
       "       [0., 0., 0., ..., 1., 0., 0.],\n",
       "       [0., 0., 0., ..., 0., 1., 0.],\n",
       "       [0., 0., 0., ..., 0., 0., 1.]])"
      ]
     },
     "execution_count": 152,
     "metadata": {},
     "output_type": "execute_result"
    }
   ],
   "source": [
    "alpha_distances.toarray()"
   ]
  },
  {
   "cell_type": "code",
   "execution_count": 153,
   "id": "89d47af8",
   "metadata": {
    "scrolled": true
   },
   "outputs": [
    {
     "data": {
      "text/plain": [
       "matrix([[ 2.],\n",
       "        [ 2.],\n",
       "        [49.],\n",
       "        ...,\n",
       "        [39.],\n",
       "        [ 1.],\n",
       "        [ 1.]])"
      ]
     },
     "execution_count": 153,
     "metadata": {},
     "output_type": "execute_result"
    }
   ],
   "source": [
    "# row sum\n",
    "row_sums = alpha_distances.sum(1)\n",
    "row_sums"
   ]
  },
  {
   "cell_type": "code",
   "execution_count": 163,
   "id": "d2c7144d",
   "metadata": {},
   "outputs": [
    {
     "data": {
      "text/plain": [
       "matrix([[   0, 3252, 3250, ..., 3761,  253, 1131]])"
      ]
     },
     "execution_count": 163,
     "metadata": {},
     "output_type": "execute_result"
    }
   ],
   "source": [
    "np.argsort(row_sums[row_sums > 1])"
   ]
  },
  {
   "cell_type": "code",
   "execution_count": 134,
   "id": "9ae09fed",
   "metadata": {},
   "outputs": [
    {
     "data": {
      "text/plain": [
       "matrix([[ 2.,  2., 49., ..., 47., 38., 39.]])"
      ]
     },
     "execution_count": 134,
     "metadata": {},
     "output_type": "execute_result"
    }
   ],
   "source": [
    "min(row_sums[row_sums > 1])"
   ]
  },
  {
   "cell_type": "code",
   "execution_count": 128,
   "id": "2d4e1dcf",
   "metadata": {},
   "outputs": [],
   "source": [
    "top_2_idx = np.argsort(alpha_distances.sum(1))[-2:]\n",
    "#top_2_values = [a[i] for i in top_2_idx]"
   ]
  },
  {
   "cell_type": "code",
   "execution_count": 129,
   "id": "2106c426",
   "metadata": {},
   "outputs": [
    {
     "data": {
      "text/plain": [
       "matrix([[0],\n",
       "        [0]])"
      ]
     },
     "execution_count": 129,
     "metadata": {},
     "output_type": "execute_result"
    }
   ],
   "source": [
    "top_2_idx"
   ]
  },
  {
   "cell_type": "code",
   "execution_count": null,
   "id": "bc8369a5",
   "metadata": {},
   "outputs": [],
   "source": []
  },
  {
   "cell_type": "code",
   "execution_count": 88,
   "id": "2b914203",
   "metadata": {},
   "outputs": [],
   "source": [
    "import sklearn"
   ]
  },
  {
   "cell_type": "code",
   "execution_count": 79,
   "id": "b5907e99",
   "metadata": {},
   "outputs": [],
   "source": [
    "from sklearn import manifold"
   ]
  },
  {
   "cell_type": "code",
   "execution_count": 98,
   "id": "053c8f80",
   "metadata": {
    "collapsed": true
   },
   "outputs": [
    {
     "ename": "TypeError",
     "evalue": "TSNE.__init__() got an unexpected keyword argument 'kneighbors'",
     "output_type": "error",
     "traceback": [
      "\u001b[0;31m---------------------------------------------------------------------------\u001b[0m",
      "\u001b[0;31mTypeError\u001b[0m                                 Traceback (most recent call last)",
      "Cell \u001b[0;32mIn [98], line 1\u001b[0m\n\u001b[0;32m----> 1\u001b[0m tsne \u001b[38;5;241m=\u001b[39m \u001b[43mmanifold\u001b[49m\u001b[38;5;241;43m.\u001b[39;49m\u001b[43mTSNE\u001b[49m\u001b[43m(\u001b[49m\u001b[43mkneighbors\u001b[49m\u001b[38;5;241;43m=\u001b[39;49m\u001b[43m \u001b[49m\u001b[38;5;241;43m1\u001b[39;49m\u001b[43m,\u001b[49m\n\u001b[1;32m      2\u001b[0m \u001b[43m                     \u001b[49m\u001b[43mmetric\u001b[49m\u001b[43m \u001b[49m\u001b[38;5;241;43m=\u001b[39;49m\u001b[43m \u001b[49m\u001b[38;5;124;43m\"\u001b[39;49m\u001b[38;5;124;43mprecomputed\u001b[39;49m\u001b[38;5;124;43m\"\u001b[39;49m\u001b[43m,\u001b[49m\n\u001b[1;32m      3\u001b[0m \u001b[43m                     \u001b[49m\u001b[43mn_jobs\u001b[49m\u001b[38;5;241;43m=\u001b[39;49m\u001b[38;5;241;43m1\u001b[39;49m\u001b[43m)\u001b[49m\n",
      "\u001b[0;31mTypeError\u001b[0m: TSNE.__init__() got an unexpected keyword argument 'kneighbors'"
     ]
    }
   ],
   "source": [
    "tsne = manifold.TSNE(metric = \"precomputed\",\n",
    "                     n_jobs=1)"
   ]
  },
  {
   "cell_type": "code",
   "execution_count": 95,
   "id": "48865b74",
   "metadata": {
    "collapsed": true
   },
   "outputs": [
    {
     "ename": "ValueError",
     "evalue": "5 neighbors per samples are required, but some samples have only 1 neighbors in precomputed graph matrix. Decrease number of neighbors used or recompute the graph with more neighbors.",
     "output_type": "error",
     "traceback": [
      "\u001b[0;31m---------------------------------------------------------------------------\u001b[0m",
      "\u001b[0;31mValueError\u001b[0m                                Traceback (most recent call last)",
      "Cell \u001b[0;32mIn [95], line 1\u001b[0m\n\u001b[0;32m----> 1\u001b[0m fitted_tsne \u001b[38;5;241m=\u001b[39m \u001b[43mtsne\u001b[49m\u001b[38;5;241;43m.\u001b[39;49m\u001b[43mfit_transform\u001b[49m\u001b[43m(\u001b[49m\u001b[43malpha_distances\u001b[49m\u001b[43m)\u001b[49m\n",
      "File \u001b[0;32m~/.local/lib/python3.10/site-packages/sklearn/manifold/_t_sne.py:1123\u001b[0m, in \u001b[0;36mTSNE.fit_transform\u001b[0;34m(self, X, y)\u001b[0m\n\u001b[1;32m   1103\u001b[0m \u001b[38;5;124;03m\"\"\"Fit X into an embedded space and return that transformed output.\u001b[39;00m\n\u001b[1;32m   1104\u001b[0m \n\u001b[1;32m   1105\u001b[0m \u001b[38;5;124;03mParameters\u001b[39;00m\n\u001b[0;32m   (...)\u001b[0m\n\u001b[1;32m   1120\u001b[0m \u001b[38;5;124;03m    Embedding of the training data in low-dimensional space.\u001b[39;00m\n\u001b[1;32m   1121\u001b[0m \u001b[38;5;124;03m\"\"\"\u001b[39;00m\n\u001b[1;32m   1122\u001b[0m \u001b[38;5;28mself\u001b[39m\u001b[38;5;241m.\u001b[39m_check_params_vs_input(X)\n\u001b[0;32m-> 1123\u001b[0m embedding \u001b[38;5;241m=\u001b[39m \u001b[38;5;28;43mself\u001b[39;49m\u001b[38;5;241;43m.\u001b[39;49m\u001b[43m_fit\u001b[49m\u001b[43m(\u001b[49m\u001b[43mX\u001b[49m\u001b[43m)\u001b[49m\n\u001b[1;32m   1124\u001b[0m \u001b[38;5;28mself\u001b[39m\u001b[38;5;241m.\u001b[39membedding_ \u001b[38;5;241m=\u001b[39m embedding\n\u001b[1;32m   1125\u001b[0m \u001b[38;5;28;01mreturn\u001b[39;00m \u001b[38;5;28mself\u001b[39m\u001b[38;5;241m.\u001b[39membedding_\n",
      "File \u001b[0;32m~/.local/lib/python3.10/site-packages/sklearn/manifold/_t_sne.py:962\u001b[0m, in \u001b[0;36mTSNE._fit\u001b[0;34m(self, X, skip_num_points)\u001b[0m\n\u001b[1;32m    955\u001b[0m     \u001b[38;5;28mprint\u001b[39m(\n\u001b[1;32m    956\u001b[0m         \u001b[38;5;124m\"\u001b[39m\u001b[38;5;124m[t-SNE] Indexed \u001b[39m\u001b[38;5;132;01m{}\u001b[39;00m\u001b[38;5;124m samples in \u001b[39m\u001b[38;5;132;01m{:.3f}\u001b[39;00m\u001b[38;5;124ms...\u001b[39m\u001b[38;5;124m\"\u001b[39m\u001b[38;5;241m.\u001b[39mformat(\n\u001b[1;32m    957\u001b[0m             n_samples, duration\n\u001b[1;32m    958\u001b[0m         )\n\u001b[1;32m    959\u001b[0m     )\n\u001b[1;32m    961\u001b[0m t0 \u001b[38;5;241m=\u001b[39m time()\n\u001b[0;32m--> 962\u001b[0m distances_nn \u001b[38;5;241m=\u001b[39m \u001b[43mknn\u001b[49m\u001b[38;5;241;43m.\u001b[39;49m\u001b[43mkneighbors_graph\u001b[49m\u001b[43m(\u001b[49m\u001b[43mmode\u001b[49m\u001b[38;5;241;43m=\u001b[39;49m\u001b[38;5;124;43m\"\u001b[39;49m\u001b[38;5;124;43mdistance\u001b[39;49m\u001b[38;5;124;43m\"\u001b[39;49m\u001b[43m)\u001b[49m\n\u001b[1;32m    963\u001b[0m duration \u001b[38;5;241m=\u001b[39m time() \u001b[38;5;241m-\u001b[39m t0\n\u001b[1;32m    964\u001b[0m \u001b[38;5;28;01mif\u001b[39;00m \u001b[38;5;28mself\u001b[39m\u001b[38;5;241m.\u001b[39mverbose:\n",
      "File \u001b[0;32m~/.local/lib/python3.10/site-packages/sklearn/neighbors/_base.py:924\u001b[0m, in \u001b[0;36mKNeighborsMixin.kneighbors_graph\u001b[0;34m(self, X, n_neighbors, mode)\u001b[0m\n\u001b[1;32m    921\u001b[0m     A_data \u001b[38;5;241m=\u001b[39m np\u001b[38;5;241m.\u001b[39mones(n_queries \u001b[38;5;241m*\u001b[39m n_neighbors)\n\u001b[1;32m    923\u001b[0m \u001b[38;5;28;01melif\u001b[39;00m mode \u001b[38;5;241m==\u001b[39m \u001b[38;5;124m\"\u001b[39m\u001b[38;5;124mdistance\u001b[39m\u001b[38;5;124m\"\u001b[39m:\n\u001b[0;32m--> 924\u001b[0m     A_data, A_ind \u001b[38;5;241m=\u001b[39m \u001b[38;5;28;43mself\u001b[39;49m\u001b[38;5;241;43m.\u001b[39;49m\u001b[43mkneighbors\u001b[49m\u001b[43m(\u001b[49m\u001b[43mX\u001b[49m\u001b[43m,\u001b[49m\u001b[43m \u001b[49m\u001b[43mn_neighbors\u001b[49m\u001b[43m,\u001b[49m\u001b[43m \u001b[49m\u001b[43mreturn_distance\u001b[49m\u001b[38;5;241;43m=\u001b[39;49m\u001b[38;5;28;43;01mTrue\u001b[39;49;00m\u001b[43m)\u001b[49m\n\u001b[1;32m    925\u001b[0m     A_data \u001b[38;5;241m=\u001b[39m np\u001b[38;5;241m.\u001b[39mravel(A_data)\n\u001b[1;32m    927\u001b[0m \u001b[38;5;28;01melse\u001b[39;00m:\n",
      "File \u001b[0;32m~/.local/lib/python3.10/site-packages/sklearn/neighbors/_base.py:776\u001b[0m, in \u001b[0;36mKNeighborsMixin.kneighbors\u001b[0;34m(self, X, n_neighbors, return_distance)\u001b[0m\n\u001b[1;32m    763\u001b[0m     results \u001b[38;5;241m=\u001b[39m PairwiseDistancesArgKmin\u001b[38;5;241m.\u001b[39mcompute(\n\u001b[1;32m    764\u001b[0m         X\u001b[38;5;241m=\u001b[39mX,\n\u001b[1;32m    765\u001b[0m         Y\u001b[38;5;241m=\u001b[39m\u001b[38;5;28mself\u001b[39m\u001b[38;5;241m.\u001b[39m_fit_X,\n\u001b[0;32m   (...)\u001b[0m\n\u001b[1;32m    770\u001b[0m         return_distance\u001b[38;5;241m=\u001b[39mreturn_distance,\n\u001b[1;32m    771\u001b[0m     )\n\u001b[1;32m    773\u001b[0m \u001b[38;5;28;01melif\u001b[39;00m (\n\u001b[1;32m    774\u001b[0m     \u001b[38;5;28mself\u001b[39m\u001b[38;5;241m.\u001b[39m_fit_method \u001b[38;5;241m==\u001b[39m \u001b[38;5;124m\"\u001b[39m\u001b[38;5;124mbrute\u001b[39m\u001b[38;5;124m\"\u001b[39m \u001b[38;5;129;01mand\u001b[39;00m \u001b[38;5;28mself\u001b[39m\u001b[38;5;241m.\u001b[39mmetric \u001b[38;5;241m==\u001b[39m \u001b[38;5;124m\"\u001b[39m\u001b[38;5;124mprecomputed\u001b[39m\u001b[38;5;124m\"\u001b[39m \u001b[38;5;129;01mand\u001b[39;00m issparse(X)\n\u001b[1;32m    775\u001b[0m ):\n\u001b[0;32m--> 776\u001b[0m     results \u001b[38;5;241m=\u001b[39m \u001b[43m_kneighbors_from_graph\u001b[49m\u001b[43m(\u001b[49m\n\u001b[1;32m    777\u001b[0m \u001b[43m        \u001b[49m\u001b[43mX\u001b[49m\u001b[43m,\u001b[49m\u001b[43m \u001b[49m\u001b[43mn_neighbors\u001b[49m\u001b[38;5;241;43m=\u001b[39;49m\u001b[43mn_neighbors\u001b[49m\u001b[43m,\u001b[49m\u001b[43m \u001b[49m\u001b[43mreturn_distance\u001b[49m\u001b[38;5;241;43m=\u001b[39;49m\u001b[43mreturn_distance\u001b[49m\n\u001b[1;32m    778\u001b[0m \u001b[43m    \u001b[49m\u001b[43m)\u001b[49m\n\u001b[1;32m    780\u001b[0m \u001b[38;5;28;01melif\u001b[39;00m \u001b[38;5;28mself\u001b[39m\u001b[38;5;241m.\u001b[39m_fit_method \u001b[38;5;241m==\u001b[39m \u001b[38;5;124m\"\u001b[39m\u001b[38;5;124mbrute\u001b[39m\u001b[38;5;124m\"\u001b[39m:\n\u001b[1;32m    781\u001b[0m     \u001b[38;5;66;03m# TODO: should no longer be needed once PairwiseDistancesArgKmin\u001b[39;00m\n\u001b[1;32m    782\u001b[0m     \u001b[38;5;66;03m# is extended to accept sparse and/or float32 inputs.\u001b[39;00m\n\u001b[1;32m    784\u001b[0m     reduce_func \u001b[38;5;241m=\u001b[39m partial(\n\u001b[1;32m    785\u001b[0m         \u001b[38;5;28mself\u001b[39m\u001b[38;5;241m.\u001b[39m_kneighbors_reduce_func,\n\u001b[1;32m    786\u001b[0m         n_neighbors\u001b[38;5;241m=\u001b[39mn_neighbors,\n\u001b[1;32m    787\u001b[0m         return_distance\u001b[38;5;241m=\u001b[39mreturn_distance,\n\u001b[1;32m    788\u001b[0m     )\n",
      "File \u001b[0;32m~/.local/lib/python3.10/site-packages/sklearn/neighbors/_base.py:262\u001b[0m, in \u001b[0;36m_kneighbors_from_graph\u001b[0;34m(graph, n_neighbors, return_distance)\u001b[0m\n\u001b[1;32m    260\u001b[0m row_nnz_min \u001b[38;5;241m=\u001b[39m row_nnz\u001b[38;5;241m.\u001b[39mmin()\n\u001b[1;32m    261\u001b[0m \u001b[38;5;28;01mif\u001b[39;00m n_neighbors \u001b[38;5;129;01mis\u001b[39;00m \u001b[38;5;129;01mnot\u001b[39;00m \u001b[38;5;28;01mNone\u001b[39;00m \u001b[38;5;129;01mand\u001b[39;00m row_nnz_min \u001b[38;5;241m<\u001b[39m n_neighbors:\n\u001b[0;32m--> 262\u001b[0m     \u001b[38;5;28;01mraise\u001b[39;00m \u001b[38;5;167;01mValueError\u001b[39;00m(\n\u001b[1;32m    263\u001b[0m         \u001b[38;5;124m\"\u001b[39m\u001b[38;5;132;01m%d\u001b[39;00m\u001b[38;5;124m neighbors per samples are required, but some samples have only\u001b[39m\u001b[38;5;124m\"\u001b[39m\n\u001b[1;32m    264\u001b[0m         \u001b[38;5;124m\"\u001b[39m\u001b[38;5;124m \u001b[39m\u001b[38;5;132;01m%d\u001b[39;00m\u001b[38;5;124m neighbors in precomputed graph matrix. Decrease number of \u001b[39m\u001b[38;5;124m\"\u001b[39m\n\u001b[1;32m    265\u001b[0m         \u001b[38;5;124m\"\u001b[39m\u001b[38;5;124mneighbors used or recompute the graph with more neighbors.\u001b[39m\u001b[38;5;124m\"\u001b[39m\n\u001b[1;32m    266\u001b[0m         \u001b[38;5;241m%\u001b[39m (n_neighbors, row_nnz_min)\n\u001b[1;32m    267\u001b[0m     )\n\u001b[1;32m    269\u001b[0m \u001b[38;5;28;01mdef\u001b[39;00m \u001b[38;5;21mextract\u001b[39m(a):\n\u001b[1;32m    270\u001b[0m     \u001b[38;5;66;03m# if each sample has the same number of provided neighbors\u001b[39;00m\n\u001b[1;32m    271\u001b[0m     \u001b[38;5;28;01mif\u001b[39;00m row_nnz\u001b[38;5;241m.\u001b[39mmax() \u001b[38;5;241m==\u001b[39m row_nnz_min:\n",
      "\u001b[0;31mValueError\u001b[0m: 5 neighbors per samples are required, but some samples have only 1 neighbors in precomputed graph matrix. Decrease number of neighbors used or recompute the graph with more neighbors."
     ]
    }
   ],
   "source": [
    "fitted_tsne = tsne.fit_transform(alpha_distances)"
   ]
  },
  {
   "cell_type": "code",
   "execution_count": 89,
   "id": "82724d84",
   "metadata": {
    "collapsed": true
   },
   "outputs": [
    {
     "data": {
      "text/plain": [
       "['braycurtis',\n",
       " 'canberra',\n",
       " 'chebyshev',\n",
       " 'cityblock',\n",
       " 'correlation',\n",
       " 'cosine',\n",
       " 'dice',\n",
       " 'euclidean',\n",
       " 'hamming',\n",
       " 'haversine',\n",
       " 'jaccard',\n",
       " 'kulsinski',\n",
       " 'l1',\n",
       " 'l2',\n",
       " 'mahalanobis',\n",
       " 'manhattan',\n",
       " 'matching',\n",
       " 'minkowski',\n",
       " 'nan_euclidean',\n",
       " 'precomputed',\n",
       " 'rogerstanimoto',\n",
       " 'russellrao',\n",
       " 'seuclidean',\n",
       " 'sokalmichener',\n",
       " 'sokalsneath',\n",
       " 'sqeuclidean',\n",
       " 'yule']"
      ]
     },
     "execution_count": 89,
     "metadata": {},
     "output_type": "execute_result"
    }
   ],
   "source": [
    "sklearn.neighbors.VALID_METRICS['brute']"
   ]
  }
 ],
 "metadata": {
  "kernelspec": {
   "display_name": "Python 3 (ipykernel)",
   "language": "python",
   "name": "python3"
  },
  "language_info": {
   "codemirror_mode": {
    "name": "ipython",
    "version": 3
   },
   "file_extension": ".py",
   "mimetype": "text/x-python",
   "name": "python",
   "nbconvert_exporter": "python",
   "pygments_lexer": "ipython3",
   "version": "3.10.6"
  }
 },
 "nbformat": 4,
 "nbformat_minor": 5
}
