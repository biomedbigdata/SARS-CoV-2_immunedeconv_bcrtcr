{
 "cells": [
  {
   "cell_type": "markdown",
   "id": "5fba2cf4",
   "metadata": {},
   "source": [
    "Just a short script to prepare the distance matrices:"
   ]
  },
  {
   "cell_type": "code",
   "execution_count": 7,
   "id": "a6de8497",
   "metadata": {
    "ExecuteTime": {
     "end_time": "2023-12-08T15:11:24.111129700Z",
     "start_time": "2023-12-08T15:10:31.016870200Z"
    }
   },
   "outputs": [],
   "source": [
    "from scirpy.ir_dist import *\n",
    "import pandas as pd\n",
    "import numpy as np"
   ]
  },
  {
   "cell_type": "code",
   "execution_count": 8,
   "id": "3de8f491",
   "metadata": {
    "ExecuteTime": {
     "end_time": "2023-12-08T15:11:57.852321900Z",
     "start_time": "2023-12-08T15:11:57.831122300Z"
    }
   },
   "outputs": [],
   "source": [
    "def compute_distance_mat(sequences, cutoff):\n",
    "  # create the AlignmentDistanceCalculator\n",
    "    adc = metrics.AlignmentDistanceCalculator(cutoff, n_jobs = 1)\n",
    "    # compute the weighted adjacencies\n",
    "    dist_mat = adc.calc_dist_mat(sequences)\n",
    "    return dist_mat\n"
   ]
  },
  {
   "cell_type": "code",
   "execution_count": 12,
   "id": "f43a7191",
   "metadata": {
    "ExecuteTime": {
     "end_time": "2023-12-08T15:13:28.553044800Z",
     "start_time": "2023-12-08T15:13:28.517017400Z"
    }
   },
   "outputs": [],
   "source": [
    "sequences = pd.read_csv(\"../../data/filtered_bcrtcr_seqs/all_seqs.csv\")"
   ]
  },
  {
   "cell_type": "code",
   "execution_count": 13,
   "outputs": [
    {
     "data": {
      "text/plain": "     Unnamed: 0              x\n0             1    CQQSYSTPRTF\n1             2    CQQYGSSPLTF\n2             3    CQQYNNWPRTF\n3             4    CQQYGSSPRTF\n4             5    CQQRSNWPLTF\n..          ...            ...\n606         607  CQQRSNWPPSITF\n607         608   CQQYGSSPRITF\n608         609   CQQRSNWPSLTF\n609         610   CQQYNNWPLLTF\n610         611     CQQYGSSPSF\n\n[611 rows x 2 columns]",
      "text/html": "<div>\n<style scoped>\n    .dataframe tbody tr th:only-of-type {\n        vertical-align: middle;\n    }\n\n    .dataframe tbody tr th {\n        vertical-align: top;\n    }\n\n    .dataframe thead th {\n        text-align: right;\n    }\n</style>\n<table border=\"1\" class=\"dataframe\">\n  <thead>\n    <tr style=\"text-align: right;\">\n      <th></th>\n      <th>Unnamed: 0</th>\n      <th>x</th>\n    </tr>\n  </thead>\n  <tbody>\n    <tr>\n      <th>0</th>\n      <td>1</td>\n      <td>CQQSYSTPRTF</td>\n    </tr>\n    <tr>\n      <th>1</th>\n      <td>2</td>\n      <td>CQQYGSSPLTF</td>\n    </tr>\n    <tr>\n      <th>2</th>\n      <td>3</td>\n      <td>CQQYNNWPRTF</td>\n    </tr>\n    <tr>\n      <th>3</th>\n      <td>4</td>\n      <td>CQQYGSSPRTF</td>\n    </tr>\n    <tr>\n      <th>4</th>\n      <td>5</td>\n      <td>CQQRSNWPLTF</td>\n    </tr>\n    <tr>\n      <th>...</th>\n      <td>...</td>\n      <td>...</td>\n    </tr>\n    <tr>\n      <th>606</th>\n      <td>607</td>\n      <td>CQQRSNWPPSITF</td>\n    </tr>\n    <tr>\n      <th>607</th>\n      <td>608</td>\n      <td>CQQYGSSPRITF</td>\n    </tr>\n    <tr>\n      <th>608</th>\n      <td>609</td>\n      <td>CQQRSNWPSLTF</td>\n    </tr>\n    <tr>\n      <th>609</th>\n      <td>610</td>\n      <td>CQQYNNWPLLTF</td>\n    </tr>\n    <tr>\n      <th>610</th>\n      <td>611</td>\n      <td>CQQYGSSPSF</td>\n    </tr>\n  </tbody>\n</table>\n<p>611 rows × 2 columns</p>\n</div>"
     },
     "execution_count": 13,
     "metadata": {},
     "output_type": "execute_result"
    }
   ],
   "source": [
    "sequences"
   ],
   "metadata": {
    "collapsed": false,
    "ExecuteTime": {
     "end_time": "2023-12-08T15:13:31.042497500Z",
     "start_time": "2023-12-08T15:13:31.016177800Z"
    }
   }
  },
  {
   "cell_type": "code",
   "execution_count": 11,
   "id": "25d1c023",
   "metadata": {
    "collapsed": true
   },
   "outputs": [
    {
     "data": {
      "application/vnd.jupyter.widget-view+json": {
       "model_id": "5991402e39de4fe9bdbdd98537d32927",
       "version_major": 2,
       "version_minor": 0
      },
      "text/plain": [
       "  0%|          | 0/28 [00:00<?, ?it/s]"
      ]
     },
     "metadata": {},
     "output_type": "display_data"
    },
    {
     "ename": "KeyboardInterrupt",
     "evalue": "",
     "output_type": "error",
     "traceback": [
      "\u001B[1;31m---------------------------------------------------------------------------\u001B[0m",
      "\u001B[1;31mKeyboardInterrupt\u001B[0m                         Traceback (most recent call last)",
      "Cell \u001B[1;32mIn[11], line 1\u001B[0m\n\u001B[1;32m----> 1\u001B[0m all_5_dist_mat \u001B[38;5;241m=\u001B[39m \u001B[43mcompute_distance_mat\u001B[49m\u001B[43m(\u001B[49m\u001B[38;5;28;43mlist\u001B[39;49m\u001B[43m(\u001B[49m\u001B[43msequences\u001B[49m\u001B[43m[\u001B[49m\u001B[38;5;124;43m\"\u001B[39;49m\u001B[38;5;124;43mx\u001B[39;49m\u001B[38;5;124;43m\"\u001B[39;49m\u001B[43m]\u001B[49m\u001B[43m)\u001B[49m\u001B[43m,\u001B[49m\u001B[43m \u001B[49m\u001B[38;5;241;43m5\u001B[39;49m\u001B[43m)\u001B[49m\n",
      "Cell \u001B[1;32mIn[2], line 5\u001B[0m, in \u001B[0;36mcompute_distance_mat\u001B[1;34m(sequences, cutoff)\u001B[0m\n\u001B[0;32m      3\u001B[0m adc \u001B[38;5;241m=\u001B[39m metrics\u001B[38;5;241m.\u001B[39mAlignmentDistanceCalculator(cutoff, n_jobs \u001B[38;5;241m=\u001B[39m \u001B[38;5;241m1\u001B[39m)\n\u001B[0;32m      4\u001B[0m \u001B[38;5;66;03m# compute the weighted adjacencies\u001B[39;00m\n\u001B[1;32m----> 5\u001B[0m dist_mat \u001B[38;5;241m=\u001B[39m \u001B[43madc\u001B[49m\u001B[38;5;241;43m.\u001B[39;49m\u001B[43mcalc_dist_mat\u001B[49m\u001B[43m(\u001B[49m\u001B[43msequences\u001B[49m\u001B[43m)\u001B[49m\n\u001B[0;32m      6\u001B[0m \u001B[38;5;28;01mreturn\u001B[39;00m dist_mat\n",
      "File \u001B[1;32m~\\Anaconda\\envs\\bcrtcr_jupyter\\lib\\site-packages\\scirpy\\ir_dist\\metrics.py:215\u001B[0m, in \u001B[0;36mParallelDistanceCalculator.calc_dist_mat\u001B[1;34m(self, seqs, seqs2)\u001B[0m\n\u001B[0;32m    212\u001B[0m \u001B[38;5;66;03m# precompute blocks as list to have total number of blocks for progressbar\u001B[39;00m\n\u001B[0;32m    213\u001B[0m blocks \u001B[38;5;241m=\u001B[39m \u001B[38;5;28mlist\u001B[39m(\u001B[38;5;28mself\u001B[39m\u001B[38;5;241m.\u001B[39m_block_iter(seqs, seqs2, \u001B[38;5;28mself\u001B[39m\u001B[38;5;241m.\u001B[39mblock_size))\n\u001B[1;32m--> 215\u001B[0m block_results \u001B[38;5;241m=\u001B[39m \u001B[43mprocess_map\u001B[49m\u001B[43m(\u001B[49m\n\u001B[0;32m    216\u001B[0m \u001B[43m    \u001B[49m\u001B[38;5;28;43mself\u001B[39;49m\u001B[38;5;241;43m.\u001B[39;49m\u001B[43m_compute_block\u001B[49m\u001B[43m,\u001B[49m\n\u001B[0;32m    217\u001B[0m \u001B[43m    \u001B[49m\u001B[38;5;241;43m*\u001B[39;49m\u001B[38;5;28;43mzip\u001B[39;49m\u001B[43m(\u001B[49m\u001B[38;5;241;43m*\u001B[39;49m\u001B[43mblocks\u001B[49m\u001B[43m)\u001B[49m\u001B[43m,\u001B[49m\n\u001B[0;32m    218\u001B[0m \u001B[43m    \u001B[49m\u001B[43mmax_workers\u001B[49m\u001B[38;5;241;43m=\u001B[39;49m\u001B[38;5;28;43mself\u001B[39;49m\u001B[38;5;241;43m.\u001B[39;49m\u001B[43mn_jobs\u001B[49m\u001B[43m \u001B[49m\u001B[38;5;28;43;01mif\u001B[39;49;00m\u001B[43m \u001B[49m\u001B[38;5;28;43mself\u001B[39;49m\u001B[38;5;241;43m.\u001B[39;49m\u001B[43mn_jobs\u001B[49m\u001B[43m \u001B[49m\u001B[38;5;129;43;01mis\u001B[39;49;00m\u001B[43m \u001B[49m\u001B[38;5;129;43;01mnot\u001B[39;49;00m\u001B[43m \u001B[49m\u001B[38;5;28;43;01mNone\u001B[39;49;00m\u001B[43m \u001B[49m\u001B[38;5;28;43;01melse\u001B[39;49;00m\u001B[43m \u001B[49m\u001B[43mcpu_count\u001B[49m\u001B[43m(\u001B[49m\u001B[43m)\u001B[49m\u001B[43m,\u001B[49m\n\u001B[0;32m    219\u001B[0m \u001B[43m    \u001B[49m\u001B[43mchunksize\u001B[49m\u001B[38;5;241;43m=\u001B[39;49m\u001B[38;5;241;43m50\u001B[39;49m\u001B[43m,\u001B[49m\n\u001B[0;32m    220\u001B[0m \u001B[43m    \u001B[49m\u001B[43mtqdm_class\u001B[49m\u001B[38;5;241;43m=\u001B[39;49m\u001B[43mtqdm\u001B[49m\u001B[43m,\u001B[49m\n\u001B[0;32m    221\u001B[0m \u001B[43m    \u001B[49m\u001B[43mtotal\u001B[49m\u001B[38;5;241;43m=\u001B[39;49m\u001B[38;5;28;43mlen\u001B[39;49m\u001B[43m(\u001B[49m\u001B[43mblocks\u001B[49m\u001B[43m)\u001B[49m\u001B[43m,\u001B[49m\n\u001B[0;32m    222\u001B[0m \u001B[43m\u001B[49m\u001B[43m)\u001B[49m\n\u001B[0;32m    224\u001B[0m \u001B[38;5;28;01mtry\u001B[39;00m:\n\u001B[0;32m    225\u001B[0m     dists, rows, cols \u001B[38;5;241m=\u001B[39m \u001B[38;5;28mzip\u001B[39m(\u001B[38;5;241m*\u001B[39mitertools\u001B[38;5;241m.\u001B[39mchain(\u001B[38;5;241m*\u001B[39mblock_results))\n",
      "File \u001B[1;32m~\\Anaconda\\envs\\bcrtcr_jupyter\\lib\\site-packages\\tqdm\\contrib\\concurrent.py:130\u001B[0m, in \u001B[0;36mprocess_map\u001B[1;34m(fn, *iterables, **tqdm_kwargs)\u001B[0m\n\u001B[0;32m    128\u001B[0m     tqdm_kwargs \u001B[38;5;241m=\u001B[39m tqdm_kwargs\u001B[38;5;241m.\u001B[39mcopy()\n\u001B[0;32m    129\u001B[0m     tqdm_kwargs[\u001B[38;5;124m\"\u001B[39m\u001B[38;5;124mlock_name\u001B[39m\u001B[38;5;124m\"\u001B[39m] \u001B[38;5;241m=\u001B[39m \u001B[38;5;124m\"\u001B[39m\u001B[38;5;124mmp_lock\u001B[39m\u001B[38;5;124m\"\u001B[39m\n\u001B[1;32m--> 130\u001B[0m \u001B[38;5;28;01mreturn\u001B[39;00m _executor_map(ProcessPoolExecutor, fn, \u001B[38;5;241m*\u001B[39miterables, \u001B[38;5;241m*\u001B[39m\u001B[38;5;241m*\u001B[39mtqdm_kwargs)\n",
      "File \u001B[1;32m~\\Anaconda\\envs\\bcrtcr_jupyter\\lib\\site-packages\\tqdm\\contrib\\concurrent.py:76\u001B[0m, in \u001B[0;36m_executor_map\u001B[1;34m(PoolExecutor, fn, *iterables, **tqdm_kwargs)\u001B[0m\n\u001B[0;32m     74\u001B[0m     map_args\u001B[38;5;241m.\u001B[39mupdate(chunksize\u001B[38;5;241m=\u001B[39mchunksize)\n\u001B[0;32m     75\u001B[0m \u001B[38;5;28;01mwith\u001B[39;00m PoolExecutor(\u001B[38;5;241m*\u001B[39m\u001B[38;5;241m*\u001B[39mpool_kwargs) \u001B[38;5;28;01mas\u001B[39;00m ex:\n\u001B[1;32m---> 76\u001B[0m     \u001B[38;5;28;01mreturn\u001B[39;00m \u001B[38;5;28;43mlist\u001B[39;49m\u001B[43m(\u001B[49m\u001B[43mtqdm_class\u001B[49m\u001B[43m(\u001B[49m\u001B[43mex\u001B[49m\u001B[38;5;241;43m.\u001B[39;49m\u001B[43mmap\u001B[49m\u001B[43m(\u001B[49m\u001B[43mfn\u001B[49m\u001B[43m,\u001B[49m\u001B[43m \u001B[49m\u001B[38;5;241;43m*\u001B[39;49m\u001B[43miterables\u001B[49m\u001B[43m,\u001B[49m\u001B[43m \u001B[49m\u001B[38;5;241;43m*\u001B[39;49m\u001B[38;5;241;43m*\u001B[39;49m\u001B[43mmap_args\u001B[49m\u001B[43m)\u001B[49m\u001B[43m,\u001B[49m\u001B[43m \u001B[49m\u001B[38;5;241;43m*\u001B[39;49m\u001B[38;5;241;43m*\u001B[39;49m\u001B[43mkwargs\u001B[49m\u001B[43m)\u001B[49m\u001B[43m)\u001B[49m\n",
      "File \u001B[1;32m~\\Anaconda\\envs\\bcrtcr_jupyter\\lib\\site-packages\\tqdm\\notebook.py:259\u001B[0m, in \u001B[0;36mtqdm_notebook.__iter__\u001B[1;34m(self)\u001B[0m\n\u001B[0;32m    257\u001B[0m \u001B[38;5;28;01mtry\u001B[39;00m:\n\u001B[0;32m    258\u001B[0m     it \u001B[38;5;241m=\u001B[39m \u001B[38;5;28msuper\u001B[39m(tqdm_notebook, \u001B[38;5;28mself\u001B[39m)\u001B[38;5;241m.\u001B[39m\u001B[38;5;21m__iter__\u001B[39m()\n\u001B[1;32m--> 259\u001B[0m     \u001B[38;5;28;01mfor\u001B[39;00m obj \u001B[38;5;129;01min\u001B[39;00m it:\n\u001B[0;32m    260\u001B[0m         \u001B[38;5;66;03m# return super(tqdm...) will not catch exception\u001B[39;00m\n\u001B[0;32m    261\u001B[0m         \u001B[38;5;28;01myield\u001B[39;00m obj\n\u001B[0;32m    262\u001B[0m \u001B[38;5;66;03m# NB: except ... [ as ...] breaks IPython async KeyboardInterrupt\u001B[39;00m\n",
      "File \u001B[1;32m~\\Anaconda\\envs\\bcrtcr_jupyter\\lib\\site-packages\\tqdm\\std.py:1195\u001B[0m, in \u001B[0;36mtqdm.__iter__\u001B[1;34m(self)\u001B[0m\n\u001B[0;32m   1192\u001B[0m time \u001B[38;5;241m=\u001B[39m \u001B[38;5;28mself\u001B[39m\u001B[38;5;241m.\u001B[39m_time\n\u001B[0;32m   1194\u001B[0m \u001B[38;5;28;01mtry\u001B[39;00m:\n\u001B[1;32m-> 1195\u001B[0m     \u001B[38;5;28;01mfor\u001B[39;00m obj \u001B[38;5;129;01min\u001B[39;00m iterable:\n\u001B[0;32m   1196\u001B[0m         \u001B[38;5;28;01myield\u001B[39;00m obj\n\u001B[0;32m   1197\u001B[0m         \u001B[38;5;66;03m# Update and possibly print the progressbar.\u001B[39;00m\n\u001B[0;32m   1198\u001B[0m         \u001B[38;5;66;03m# Note: does not call self.update(1) for speed optimisation.\u001B[39;00m\n",
      "File \u001B[1;32m~\\Anaconda\\envs\\bcrtcr_jupyter\\lib\\concurrent\\futures\\process.py:562\u001B[0m, in \u001B[0;36m_chain_from_iterable_of_lists\u001B[1;34m(iterable)\u001B[0m\n\u001B[0;32m    556\u001B[0m \u001B[38;5;28;01mdef\u001B[39;00m \u001B[38;5;21m_chain_from_iterable_of_lists\u001B[39m(iterable):\n\u001B[0;32m    557\u001B[0m \u001B[38;5;250m    \u001B[39m\u001B[38;5;124;03m\"\"\"\u001B[39;00m\n\u001B[0;32m    558\u001B[0m \u001B[38;5;124;03m    Specialized implementation of itertools.chain.from_iterable.\u001B[39;00m\n\u001B[0;32m    559\u001B[0m \u001B[38;5;124;03m    Each item in *iterable* should be a list.  This function is\u001B[39;00m\n\u001B[0;32m    560\u001B[0m \u001B[38;5;124;03m    careful not to keep references to yielded objects.\u001B[39;00m\n\u001B[0;32m    561\u001B[0m \u001B[38;5;124;03m    \"\"\"\u001B[39;00m\n\u001B[1;32m--> 562\u001B[0m     \u001B[38;5;28;01mfor\u001B[39;00m element \u001B[38;5;129;01min\u001B[39;00m iterable:\n\u001B[0;32m    563\u001B[0m         element\u001B[38;5;241m.\u001B[39mreverse()\n\u001B[0;32m    564\u001B[0m         \u001B[38;5;28;01mwhile\u001B[39;00m element:\n",
      "File \u001B[1;32m~\\Anaconda\\envs\\bcrtcr_jupyter\\lib\\concurrent\\futures\\_base.py:609\u001B[0m, in \u001B[0;36mExecutor.map.<locals>.result_iterator\u001B[1;34m()\u001B[0m\n\u001B[0;32m    606\u001B[0m \u001B[38;5;28;01mwhile\u001B[39;00m fs:\n\u001B[0;32m    607\u001B[0m     \u001B[38;5;66;03m# Careful not to keep a reference to the popped future\u001B[39;00m\n\u001B[0;32m    608\u001B[0m     \u001B[38;5;28;01mif\u001B[39;00m timeout \u001B[38;5;129;01mis\u001B[39;00m \u001B[38;5;28;01mNone\u001B[39;00m:\n\u001B[1;32m--> 609\u001B[0m         \u001B[38;5;28;01myield\u001B[39;00m \u001B[43mfs\u001B[49m\u001B[38;5;241;43m.\u001B[39;49m\u001B[43mpop\u001B[49m\u001B[43m(\u001B[49m\u001B[43m)\u001B[49m\u001B[38;5;241;43m.\u001B[39;49m\u001B[43mresult\u001B[49m\u001B[43m(\u001B[49m\u001B[43m)\u001B[49m\n\u001B[0;32m    610\u001B[0m     \u001B[38;5;28;01melse\u001B[39;00m:\n\u001B[0;32m    611\u001B[0m         \u001B[38;5;28;01myield\u001B[39;00m fs\u001B[38;5;241m.\u001B[39mpop()\u001B[38;5;241m.\u001B[39mresult(end_time \u001B[38;5;241m-\u001B[39m time\u001B[38;5;241m.\u001B[39mmonotonic())\n",
      "File \u001B[1;32m~\\Anaconda\\envs\\bcrtcr_jupyter\\lib\\concurrent\\futures\\_base.py:441\u001B[0m, in \u001B[0;36mFuture.result\u001B[1;34m(self, timeout)\u001B[0m\n\u001B[0;32m    438\u001B[0m \u001B[38;5;28;01melif\u001B[39;00m \u001B[38;5;28mself\u001B[39m\u001B[38;5;241m.\u001B[39m_state \u001B[38;5;241m==\u001B[39m FINISHED:\n\u001B[0;32m    439\u001B[0m     \u001B[38;5;28;01mreturn\u001B[39;00m \u001B[38;5;28mself\u001B[39m\u001B[38;5;241m.\u001B[39m__get_result()\n\u001B[1;32m--> 441\u001B[0m \u001B[38;5;28;43mself\u001B[39;49m\u001B[38;5;241;43m.\u001B[39;49m\u001B[43m_condition\u001B[49m\u001B[38;5;241;43m.\u001B[39;49m\u001B[43mwait\u001B[49m\u001B[43m(\u001B[49m\u001B[43mtimeout\u001B[49m\u001B[43m)\u001B[49m\n\u001B[0;32m    443\u001B[0m \u001B[38;5;28;01mif\u001B[39;00m \u001B[38;5;28mself\u001B[39m\u001B[38;5;241m.\u001B[39m_state \u001B[38;5;129;01min\u001B[39;00m [CANCELLED, CANCELLED_AND_NOTIFIED]:\n\u001B[0;32m    444\u001B[0m     \u001B[38;5;28;01mraise\u001B[39;00m CancelledError()\n",
      "File \u001B[1;32m~\\Anaconda\\envs\\bcrtcr_jupyter\\lib\\threading.py:312\u001B[0m, in \u001B[0;36mCondition.wait\u001B[1;34m(self, timeout)\u001B[0m\n\u001B[0;32m    310\u001B[0m \u001B[38;5;28;01mtry\u001B[39;00m:    \u001B[38;5;66;03m# restore state no matter what (e.g., KeyboardInterrupt)\u001B[39;00m\n\u001B[0;32m    311\u001B[0m     \u001B[38;5;28;01mif\u001B[39;00m timeout \u001B[38;5;129;01mis\u001B[39;00m \u001B[38;5;28;01mNone\u001B[39;00m:\n\u001B[1;32m--> 312\u001B[0m         \u001B[43mwaiter\u001B[49m\u001B[38;5;241;43m.\u001B[39;49m\u001B[43macquire\u001B[49m\u001B[43m(\u001B[49m\u001B[43m)\u001B[49m\n\u001B[0;32m    313\u001B[0m         gotit \u001B[38;5;241m=\u001B[39m \u001B[38;5;28;01mTrue\u001B[39;00m\n\u001B[0;32m    314\u001B[0m     \u001B[38;5;28;01melse\u001B[39;00m:\n",
      "\u001B[1;31mKeyboardInterrupt\u001B[0m: "
     ]
    }
   ],
   "source": [
    "all_5_dist_mat = compute_distance_mat(list(sequences[\"x\"]), 5)"
   ]
  },
  {
   "cell_type": "code",
   "execution_count": 14,
   "id": "d52e056f",
   "metadata": {
    "ExecuteTime": {
     "end_time": "2023-12-08T15:14:00.847347Z",
     "start_time": "2023-12-08T15:13:40.923341600Z"
    }
   },
   "outputs": [
    {
     "data": {
      "text/plain": "  0%|          | 0/91 [00:00<?, ?it/s]",
      "application/vnd.jupyter.widget-view+json": {
       "version_major": 2,
       "version_minor": 0,
       "model_id": "7b4061ce7b664029989bbe1fff1e56c4"
      }
     },
     "metadata": {},
     "output_type": "display_data"
    }
   ],
   "source": [
    "all_10_dist_mat = compute_distance_mat(list(sequences[\"x\"]), 10)"
   ]
  },
  {
   "cell_type": "code",
   "execution_count": 6,
   "id": "219e737f",
   "metadata": {},
   "outputs": [
    {
     "data": {
      "application/vnd.jupyter.widget-view+json": {
       "model_id": "68a89771874b472ebebc023e1b4f871f",
       "version_major": 2,
       "version_minor": 0
      },
      "text/plain": [
       "  0%|          | 0/91 [00:00<?, ?it/s]"
      ]
     },
     "metadata": {},
     "output_type": "display_data"
    }
   ],
   "source": [
    "all_15_dist_mat = compute_distance_mat(list(sequences[\"x\"]), 15)"
   ]
  },
  {
   "cell_type": "code",
   "execution_count": 8,
   "id": "287166b6",
   "metadata": {},
   "outputs": [],
   "source": [
    "# write distance mat to file\n",
    "np.savetxt(\"../../data/filtered_bcrtcr_seqs/matrices/all_seqs_dist_mat_5.csv\", all_5_dist_mat.toarray() )"
   ]
  },
  {
   "cell_type": "code",
   "execution_count": 15,
   "id": "410fb3ee",
   "metadata": {
    "ExecuteTime": {
     "end_time": "2023-12-08T15:14:16.701814500Z",
     "start_time": "2023-12-08T15:14:15.408403100Z"
    }
   },
   "outputs": [],
   "source": [
    "np.savetxt(\"../../data/filtered_bcrtcr_seqs/matrices/all_seqs_dist_mat_10.csv\", all_10_dist_mat.toarray() )"
   ]
  },
  {
   "cell_type": "code",
   "execution_count": null,
   "id": "0c8314e4",
   "metadata": {},
   "outputs": [],
   "source": [
    "np.savetxt(\"../../data/filtered_bcrtcr_seqs/matrices/all_seqs_dist_mat_15.csv\", all_15_dist_mat.toarray() )"
   ]
  }
 ],
 "metadata": {
  "kernelspec": {
   "name": "python3",
   "language": "python",
   "display_name": "Python 3 (ipykernel)"
  },
  "language_info": {
   "codemirror_mode": {
    "name": "ipython",
    "version": 3
   },
   "file_extension": ".py",
   "mimetype": "text/x-python",
   "name": "python",
   "nbconvert_exporter": "python",
   "pygments_lexer": "ipython3",
   "version": "3.9.13"
  }
 },
 "nbformat": 4,
 "nbformat_minor": 5
}
