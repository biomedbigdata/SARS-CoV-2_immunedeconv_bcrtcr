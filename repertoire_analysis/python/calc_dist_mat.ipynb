{
 "cells": [
  {
   "cell_type": "markdown",
   "id": "5fba2cf4",
   "metadata": {},
   "source": [
    "Just a short script to prepare the distance matrices:"
   ]
  },
  {
   "cell_type": "code",
   "execution_count": 1,
   "id": "a6de8497",
   "metadata": {},
   "outputs": [],
   "source": [
    "from scirpy.ir_dist import *\n",
    "import pandas as pd\n",
    "import numpy as np"
   ]
  },
  {
   "cell_type": "code",
   "execution_count": 2,
   "id": "3de8f491",
   "metadata": {},
   "outputs": [],
   "source": [
    "def compute_distance_mat(sequences, cutoff):\n",
    "  # create the AlignmentDistanceCalculator\n",
    "    adc = metrics.AlignmentDistanceCalculator(cutoff, n_jobs = 1)\n",
    "    # compute the weighted adjacencies\n",
    "    dist_mat = adc.calc_dist_mat(sequences)\n",
    "    return dist_mat\n"
   ]
  },
  {
   "cell_type": "code",
   "execution_count": 3,
   "id": "f43a7191",
   "metadata": {},
   "outputs": [],
   "source": [
    "sequences = pd.read_csv(\"../../data/filtered_bcrtcr_seqs/all_seqs.csv\")"
   ]
  },
  {
   "cell_type": "code",
   "execution_count": 5,
   "id": "25d1c023",
   "metadata": {},
   "outputs": [
    {
     "data": {
      "application/vnd.jupyter.widget-view+json": {
       "model_id": "64b2224fec184afe950c4bfefa3ef3df",
       "version_major": 2,
       "version_minor": 0
      },
      "text/plain": [
       "  0%|          | 0/91 [00:00<?, ?it/s]"
      ]
     },
     "metadata": {},
     "output_type": "display_data"
    }
   ],
   "source": [
    "all_5_dist_mat = compute_distance_mat(list(sequences[\"x\"]), 5)"
   ]
  },
  {
   "cell_type": "code",
   "execution_count": 7,
   "id": "d52e056f",
   "metadata": {},
   "outputs": [
    {
     "data": {
      "application/vnd.jupyter.widget-view+json": {
       "model_id": "87eacf6e6b61487882e0b775b3f54604",
       "version_major": 2,
       "version_minor": 0
      },
      "text/plain": [
       "  0%|          | 0/91 [00:00<?, ?it/s]"
      ]
     },
     "metadata": {},
     "output_type": "display_data"
    }
   ],
   "source": [
    "all_10_dist_mat = compute_distance_mat(list(sequences[\"x\"]), 10)"
   ]
  },
  {
   "cell_type": "code",
   "execution_count": 6,
   "id": "219e737f",
   "metadata": {},
   "outputs": [
    {
     "data": {
      "application/vnd.jupyter.widget-view+json": {
       "model_id": "68a89771874b472ebebc023e1b4f871f",
       "version_major": 2,
       "version_minor": 0
      },
      "text/plain": [
       "  0%|          | 0/91 [00:00<?, ?it/s]"
      ]
     },
     "metadata": {},
     "output_type": "display_data"
    }
   ],
   "source": [
    "all_15_dist_mat = compute_distance_mat(list(sequences[\"x\"]), 15)"
   ]
  },
  {
   "cell_type": "code",
   "execution_count": 8,
   "id": "287166b6",
   "metadata": {},
   "outputs": [],
   "source": [
    "# write distance mat to file\n",
    "np.savetxt(\"../../data/filtered_bcrtcr_seqs/matrices/all_seqs_dist_mat_5.csv\", all_5_dist_mat.toarray() )\n",
    "np.savetxt(\"../../data/filtered_bcrtcr_seqs/matrices/all_seqs_dist_mat_10.csv\", all_10_dist_mat.toarray() )\n",
    "np.savetxt(\"../../data/filtered_bcrtcr_seqs/matrices/all_seqs_dist_mat_15.csv\", all_15_dist_mat.toarray() )"
   ]
  },
  {
   "cell_type": "code",
   "execution_count": null,
   "id": "410fb3ee",
   "metadata": {},
   "outputs": [],
   "source": []
  }
 ],
 "metadata": {
  "kernelspec": {
   "display_name": "bcrtcr_jupyter",
   "language": "python",
   "name": "bcrtcr_jupyter"
  },
  "language_info": {
   "codemirror_mode": {
    "name": "ipython",
    "version": 3
   },
   "file_extension": ".py",
   "mimetype": "text/x-python",
   "name": "python",
   "nbconvert_exporter": "python",
   "pygments_lexer": "ipython3",
   "version": "3.9.13"
  }
 },
 "nbformat": 4,
 "nbformat_minor": 5
}
