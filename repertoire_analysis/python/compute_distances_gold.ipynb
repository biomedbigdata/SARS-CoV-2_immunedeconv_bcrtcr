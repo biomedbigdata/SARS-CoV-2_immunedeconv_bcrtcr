{
 "cells": [
  {
   "cell_type": "code",
   "execution_count": 1,
   "metadata": {
    "collapsed": true,
    "ExecuteTime": {
     "end_time": "2023-12-08T15:32:14.758632800Z",
     "start_time": "2023-12-08T15:31:58.966332500Z"
    }
   },
   "outputs": [],
   "source": [
    "from scirpy.ir_dist import *\n",
    "import pandas as pd\n",
    "import numpy as np"
   ]
  },
  {
   "cell_type": "code",
   "execution_count": 13,
   "outputs": [],
   "source": [
    "gold_standard_seqs = pd.read_csv(\"../../data/filtered_bcrtcr_seqs/gold_standard_seqs.csv\")\n",
    "m10_seqs = pd.read_csv(\"../../data/filtered_bcrtcr_seqs/sensitivity_testing_seqs.csv\")"
   ],
   "metadata": {
    "collapsed": false,
    "ExecuteTime": {
     "end_time": "2023-12-08T15:43:04.001291Z",
     "start_time": "2023-12-08T15:43:03.970728100Z"
    }
   }
  },
  {
   "cell_type": "code",
   "execution_count": 14,
   "outputs": [
    {
     "data": {
      "text/plain": "               x\n0    CQQSYSTPRTF\n1    CQQYGSSPLTF\n2    CQQYNNWPRTF\n3    CQQYGSSPRTF\n4    CQQRSNWPLTF\n..           ...\n487  CQQYGSSPDTF\n488  CQQYDNLLFTF\n489  CQQYNNWPKTF\n490  CAAWDYYKKLF\n491  CQQYGSSSLTF\n\n[492 rows x 1 columns]",
      "text/html": "<div>\n<style scoped>\n    .dataframe tbody tr th:only-of-type {\n        vertical-align: middle;\n    }\n\n    .dataframe tbody tr th {\n        vertical-align: top;\n    }\n\n    .dataframe thead th {\n        text-align: right;\n    }\n</style>\n<table border=\"1\" class=\"dataframe\">\n  <thead>\n    <tr style=\"text-align: right;\">\n      <th></th>\n      <th>x</th>\n    </tr>\n  </thead>\n  <tbody>\n    <tr>\n      <th>0</th>\n      <td>CQQSYSTPRTF</td>\n    </tr>\n    <tr>\n      <th>1</th>\n      <td>CQQYGSSPLTF</td>\n    </tr>\n    <tr>\n      <th>2</th>\n      <td>CQQYNNWPRTF</td>\n    </tr>\n    <tr>\n      <th>3</th>\n      <td>CQQYGSSPRTF</td>\n    </tr>\n    <tr>\n      <th>4</th>\n      <td>CQQRSNWPLTF</td>\n    </tr>\n    <tr>\n      <th>...</th>\n      <td>...</td>\n    </tr>\n    <tr>\n      <th>487</th>\n      <td>CQQYGSSPDTF</td>\n    </tr>\n    <tr>\n      <th>488</th>\n      <td>CQQYDNLLFTF</td>\n    </tr>\n    <tr>\n      <th>489</th>\n      <td>CQQYNNWPKTF</td>\n    </tr>\n    <tr>\n      <th>490</th>\n      <td>CAAWDYYKKLF</td>\n    </tr>\n    <tr>\n      <th>491</th>\n      <td>CQQYGSSSLTF</td>\n    </tr>\n  </tbody>\n</table>\n<p>492 rows × 1 columns</p>\n</div>"
     },
     "execution_count": 14,
     "metadata": {},
     "output_type": "execute_result"
    }
   ],
   "source": [
    "gold_standard_seqs"
   ],
   "metadata": {
    "collapsed": false,
    "ExecuteTime": {
     "end_time": "2023-12-08T15:43:07.212272100Z",
     "start_time": "2023-12-08T15:43:07.173458800Z"
    }
   }
  },
  {
   "cell_type": "code",
   "execution_count": 15,
   "outputs": [
    {
     "data": {
      "text/plain": "              x\n0   CQQYDNLPLTF\n1   CQQSYSTPLTF\n2    CQQYGSSLTF\n3   CQQYGSSPWTF\n4   CQQYYSTPLTF\n..          ...\n65   CQQYGSSPTF\n66  CQAWDSSTAVF\n67  CQQYNSYPITF\n68  CQQRSNWPPTF\n69  CQQRSNWPRTF\n\n[70 rows x 1 columns]",
      "text/html": "<div>\n<style scoped>\n    .dataframe tbody tr th:only-of-type {\n        vertical-align: middle;\n    }\n\n    .dataframe tbody tr th {\n        vertical-align: top;\n    }\n\n    .dataframe thead th {\n        text-align: right;\n    }\n</style>\n<table border=\"1\" class=\"dataframe\">\n  <thead>\n    <tr style=\"text-align: right;\">\n      <th></th>\n      <th>x</th>\n    </tr>\n  </thead>\n  <tbody>\n    <tr>\n      <th>0</th>\n      <td>CQQYDNLPLTF</td>\n    </tr>\n    <tr>\n      <th>1</th>\n      <td>CQQSYSTPLTF</td>\n    </tr>\n    <tr>\n      <th>2</th>\n      <td>CQQYGSSLTF</td>\n    </tr>\n    <tr>\n      <th>3</th>\n      <td>CQQYGSSPWTF</td>\n    </tr>\n    <tr>\n      <th>4</th>\n      <td>CQQYYSTPLTF</td>\n    </tr>\n    <tr>\n      <th>...</th>\n      <td>...</td>\n    </tr>\n    <tr>\n      <th>65</th>\n      <td>CQQYGSSPTF</td>\n    </tr>\n    <tr>\n      <th>66</th>\n      <td>CQAWDSSTAVF</td>\n    </tr>\n    <tr>\n      <th>67</th>\n      <td>CQQYNSYPITF</td>\n    </tr>\n    <tr>\n      <th>68</th>\n      <td>CQQRSNWPPTF</td>\n    </tr>\n    <tr>\n      <th>69</th>\n      <td>CQQRSNWPRTF</td>\n    </tr>\n  </tbody>\n</table>\n<p>70 rows × 1 columns</p>\n</div>"
     },
     "execution_count": 15,
     "metadata": {},
     "output_type": "execute_result"
    }
   ],
   "source": [
    "m10_seqs"
   ],
   "metadata": {
    "collapsed": false,
    "ExecuteTime": {
     "end_time": "2023-12-08T15:43:10.242114300Z",
     "start_time": "2023-12-08T15:43:10.210746Z"
    }
   }
  },
  {
   "cell_type": "code",
   "execution_count": 17,
   "outputs": [],
   "source": [
    "# create the AlignmentDistanceCalculator\n",
    "adc = metrics.AlignmentDistanceCalculator(255, n_jobs = 1)   # distance maximum 100\n"
   ],
   "metadata": {
    "collapsed": false,
    "ExecuteTime": {
     "end_time": "2023-12-08T15:43:31.576766400Z",
     "start_time": "2023-12-08T15:43:31.542454300Z"
    }
   }
  },
  {
   "cell_type": "code",
   "execution_count": 18,
   "outputs": [
    {
     "data": {
      "text/plain": "  0%|          | 0/20 [00:00<?, ?it/s]",
      "application/vnd.jupyter.widget-view+json": {
       "version_major": 2,
       "version_minor": 0,
       "model_id": "b232c5cb9478458f8eacf82c37e95072"
      }
     },
     "metadata": {},
     "output_type": "display_data"
    }
   ],
   "source": [
    "# compute the weighted adjacencies\n",
    "dist_mat = adc.calc_dist_mat(gold_standard_seqs[\"x\"], m10_seqs[\"x\"])"
   ],
   "metadata": {
    "collapsed": false,
    "ExecuteTime": {
     "end_time": "2023-12-08T15:43:47.810786800Z",
     "start_time": "2023-12-08T15:43:33.788852700Z"
    }
   }
  },
  {
   "cell_type": "code",
   "execution_count": 19,
   "outputs": [
    {
     "data": {
      "text/plain": "array([[33,  7, 32, ..., 31, 32, 25],\n       [17, 21, 12, ..., 15, 33, 32],\n       [18, 32, 32, ..., 16, 20, 11],\n       ...,\n       [18, 32, 32, ..., 16, 19, 14],\n       [51, 63, 58, ..., 50, 62, 59],\n       [22, 27, 12, ..., 20, 38, 37]], dtype=uint8)"
     },
     "execution_count": 19,
     "metadata": {},
     "output_type": "execute_result"
    }
   ],
   "source": [
    "dist_mat.toarray()"
   ],
   "metadata": {
    "collapsed": false,
    "ExecuteTime": {
     "end_time": "2023-12-08T15:43:47.826487600Z",
     "start_time": "2023-12-08T15:43:47.814027500Z"
    }
   }
  },
  {
   "cell_type": "code",
   "execution_count": 20,
   "outputs": [],
   "source": [
    "np.savetxt(\"../../data/filtered_bcrtcr_seqs/matrices/gold_standard_vs_m10.csv\", dist_mat.toarray() )"
   ],
   "metadata": {
    "collapsed": false,
    "ExecuteTime": {
     "end_time": "2023-12-08T15:44:14.013745800Z",
     "start_time": "2023-12-08T15:44:13.935005100Z"
    }
   }
  }
 ],
 "metadata": {
  "kernelspec": {
   "display_name": "Python 3",
   "language": "python",
   "name": "python3"
  },
  "language_info": {
   "codemirror_mode": {
    "name": "ipython",
    "version": 2
   },
   "file_extension": ".py",
   "mimetype": "text/x-python",
   "name": "python",
   "nbconvert_exporter": "python",
   "pygments_lexer": "ipython2",
   "version": "2.7.6"
  }
 },
 "nbformat": 4,
 "nbformat_minor": 0
}
