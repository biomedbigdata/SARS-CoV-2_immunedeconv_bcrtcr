{
 "cells": [
  {
   "cell_type": "code",
   "execution_count": 1,
   "metadata": {
    "collapsed": true,
    "ExecuteTime": {
     "end_time": "2023-12-12T13:45:35.560624500Z",
     "start_time": "2023-12-12T13:44:00.730234100Z"
    }
   },
   "outputs": [],
   "source": [
    "from scirpy.ir_dist import *\n",
    "import pandas as pd\n",
    "import numpy as np"
   ]
  },
  {
   "cell_type": "code",
   "execution_count": 2,
   "outputs": [],
   "source": [
    "gold_standard_seqs = pd.read_csv(\"../../data/filtered_bcrtcr_seqs/gold_standard_seqs.csv\")\n",
    "m10_seqs = pd.read_csv(\"../../data/filtered_bcrtcr_seqs/sensitivity_testing_seqs.csv\")\n",
    "m50_seqs = pd.read_csv(\"../../data/filtered_bcrtcr_seqs/sensitivity_testing_50m_seqs.csv\")"
   ],
   "metadata": {
    "collapsed": false,
    "ExecuteTime": {
     "end_time": "2023-12-12T13:45:35.710355700Z",
     "start_time": "2023-12-12T13:45:35.569051200Z"
    }
   }
  },
  {
   "cell_type": "code",
   "execution_count": 3,
   "outputs": [
    {
     "data": {
      "text/plain": "               x\n0    CQQSYSTPRTF\n1    CQQYGSSPLTF\n2    CQQYNNWPRTF\n3    CQQYGSSPRTF\n4    CQQRSNWPLTF\n..           ...\n487  CQQYGSSPDTF\n488  CQQYDNLLFTF\n489  CQQYNNWPKTF\n490  CAAWDYYKKLF\n491  CQQYGSSSLTF\n\n[492 rows x 1 columns]",
      "text/html": "<div>\n<style scoped>\n    .dataframe tbody tr th:only-of-type {\n        vertical-align: middle;\n    }\n\n    .dataframe tbody tr th {\n        vertical-align: top;\n    }\n\n    .dataframe thead th {\n        text-align: right;\n    }\n</style>\n<table border=\"1\" class=\"dataframe\">\n  <thead>\n    <tr style=\"text-align: right;\">\n      <th></th>\n      <th>x</th>\n    </tr>\n  </thead>\n  <tbody>\n    <tr>\n      <th>0</th>\n      <td>CQQSYSTPRTF</td>\n    </tr>\n    <tr>\n      <th>1</th>\n      <td>CQQYGSSPLTF</td>\n    </tr>\n    <tr>\n      <th>2</th>\n      <td>CQQYNNWPRTF</td>\n    </tr>\n    <tr>\n      <th>3</th>\n      <td>CQQYGSSPRTF</td>\n    </tr>\n    <tr>\n      <th>4</th>\n      <td>CQQRSNWPLTF</td>\n    </tr>\n    <tr>\n      <th>...</th>\n      <td>...</td>\n    </tr>\n    <tr>\n      <th>487</th>\n      <td>CQQYGSSPDTF</td>\n    </tr>\n    <tr>\n      <th>488</th>\n      <td>CQQYDNLLFTF</td>\n    </tr>\n    <tr>\n      <th>489</th>\n      <td>CQQYNNWPKTF</td>\n    </tr>\n    <tr>\n      <th>490</th>\n      <td>CAAWDYYKKLF</td>\n    </tr>\n    <tr>\n      <th>491</th>\n      <td>CQQYGSSSLTF</td>\n    </tr>\n  </tbody>\n</table>\n<p>492 rows × 1 columns</p>\n</div>"
     },
     "execution_count": 3,
     "metadata": {},
     "output_type": "execute_result"
    }
   ],
   "source": [
    "gold_standard_seqs"
   ],
   "metadata": {
    "collapsed": false,
    "ExecuteTime": {
     "end_time": "2023-12-12T13:45:47.137330300Z",
     "start_time": "2023-12-12T13:45:46.980860Z"
    }
   }
  },
  {
   "cell_type": "code",
   "execution_count": 4,
   "outputs": [
    {
     "data": {
      "text/plain": "                x\n0     CQQYGSSPRTF\n1     CQQYYSTPLTF\n2    CQQYNNWPPWTF\n3     CQQRSNWPLTF\n4     CQQYGSSPWTF\n..            ...\n248   CQQLNSYPYTF\n249   CMQALQTPGTF\n250   CQQYNTYPWTF\n251  CQQYGSSPPVTF\n252  CQQYNNWPPGTF\n\n[253 rows x 1 columns]",
      "text/html": "<div>\n<style scoped>\n    .dataframe tbody tr th:only-of-type {\n        vertical-align: middle;\n    }\n\n    .dataframe tbody tr th {\n        vertical-align: top;\n    }\n\n    .dataframe thead th {\n        text-align: right;\n    }\n</style>\n<table border=\"1\" class=\"dataframe\">\n  <thead>\n    <tr style=\"text-align: right;\">\n      <th></th>\n      <th>x</th>\n    </tr>\n  </thead>\n  <tbody>\n    <tr>\n      <th>0</th>\n      <td>CQQYGSSPRTF</td>\n    </tr>\n    <tr>\n      <th>1</th>\n      <td>CQQYYSTPLTF</td>\n    </tr>\n    <tr>\n      <th>2</th>\n      <td>CQQYNNWPPWTF</td>\n    </tr>\n    <tr>\n      <th>3</th>\n      <td>CQQRSNWPLTF</td>\n    </tr>\n    <tr>\n      <th>4</th>\n      <td>CQQYGSSPWTF</td>\n    </tr>\n    <tr>\n      <th>...</th>\n      <td>...</td>\n    </tr>\n    <tr>\n      <th>248</th>\n      <td>CQQLNSYPYTF</td>\n    </tr>\n    <tr>\n      <th>249</th>\n      <td>CMQALQTPGTF</td>\n    </tr>\n    <tr>\n      <th>250</th>\n      <td>CQQYNTYPWTF</td>\n    </tr>\n    <tr>\n      <th>251</th>\n      <td>CQQYGSSPPVTF</td>\n    </tr>\n    <tr>\n      <th>252</th>\n      <td>CQQYNNWPPGTF</td>\n    </tr>\n  </tbody>\n</table>\n<p>253 rows × 1 columns</p>\n</div>"
     },
     "execution_count": 4,
     "metadata": {},
     "output_type": "execute_result"
    }
   ],
   "source": [
    "m50_seqs"
   ],
   "metadata": {
    "collapsed": false,
    "ExecuteTime": {
     "end_time": "2023-12-12T13:45:48.755173200Z",
     "start_time": "2023-12-12T13:45:48.607473500Z"
    }
   }
  },
  {
   "cell_type": "code",
   "execution_count": 5,
   "outputs": [],
   "source": [
    "# create the AlignmentDistanceCalculator\n",
    "adc = metrics.AlignmentDistanceCalculator(255, n_jobs = 1)   # distance maximum 100\n"
   ],
   "metadata": {
    "collapsed": false,
    "ExecuteTime": {
     "end_time": "2023-12-12T13:46:01.277208800Z",
     "start_time": "2023-12-12T13:46:01.224903800Z"
    }
   }
  },
  {
   "cell_type": "code",
   "execution_count": 6,
   "outputs": [
    {
     "data": {
      "text/plain": "  0%|          | 0/60 [00:00<?, ?it/s]",
      "application/vnd.jupyter.widget-view+json": {
       "version_major": 2,
       "version_minor": 0,
       "model_id": "db25817f8ee446e6bce48f7421efdc12"
      }
     },
     "metadata": {},
     "output_type": "display_data"
    }
   ],
   "source": [
    "# compute the weighted adjacencies\n",
    "dist_mat = adc.calc_dist_mat(gold_standard_seqs[\"x\"], m50_seqs[\"x\"])"
   ],
   "metadata": {
    "collapsed": false,
    "ExecuteTime": {
     "end_time": "2023-12-12T13:46:47.197424900Z",
     "start_time": "2023-12-12T13:46:07.718068400Z"
    }
   }
  },
  {
   "cell_type": "code",
   "execution_count": 7,
   "outputs": [
    {
     "data": {
      "text/plain": "array([[21, 14, 44, ..., 34, 39, 43],\n       [ 7, 13, 32, ..., 22, 15, 34],\n       [17, 26, 19, ..., 24, 41, 19],\n       ...,\n       [20, 26, 18, ..., 24, 40, 18],\n       [54, 61, 67, ..., 53, 71, 67],\n       [12, 18, 37, ..., 27, 20, 39]], dtype=uint8)"
     },
     "execution_count": 7,
     "metadata": {},
     "output_type": "execute_result"
    }
   ],
   "source": [
    "dist_mat.toarray()"
   ],
   "metadata": {
    "collapsed": false,
    "ExecuteTime": {
     "end_time": "2023-12-12T13:46:47.223016700Z",
     "start_time": "2023-12-12T13:46:47.200881900Z"
    }
   }
  },
  {
   "cell_type": "code",
   "execution_count": 8,
   "outputs": [],
   "source": [
    "np.savetxt(\"../../data/filtered_bcrtcr_seqs/matrices/gold_standard_vs_m50.csv\", dist_mat.toarray() )"
   ],
   "metadata": {
    "collapsed": false,
    "ExecuteTime": {
     "end_time": "2023-12-12T13:47:00.169260Z",
     "start_time": "2023-12-12T13:46:59.461765500Z"
    }
   }
  }
 ],
 "metadata": {
  "kernelspec": {
   "display_name": "Python 3",
   "language": "python",
   "name": "python3"
  },
  "language_info": {
   "codemirror_mode": {
    "name": "ipython",
    "version": 2
   },
   "file_extension": ".py",
   "mimetype": "text/x-python",
   "name": "python",
   "nbconvert_exporter": "python",
   "pygments_lexer": "ipython2",
   "version": "2.7.6"
  }
 },
 "nbformat": 4,
 "nbformat_minor": 0
}
